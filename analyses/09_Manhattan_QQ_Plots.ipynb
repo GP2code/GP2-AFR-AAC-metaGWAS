{
 "cells": [
  {
   "attachments": {},
   "cell_type": "markdown",
   "id": "9f0eaed8-093b-43e7-a86c-a02276d75776",
   "metadata": {},
   "source": [
    "# Manhattan and QQ Plots\n",
    "- **Project:** GP2 AFR-AAC meta-GWAS \n",
    "- **Version:** Python/3.9\n",
    "- **Status:** COMPLETE\n",
    "- **Started:** 22-FEB-2023\n",
    "- **Last Updated:** 22-FEB-2023\n",
    "    - **Update Description:**  Notebook started\n",
    "\n",
    "## Notebook Overview\n",
    "- Visualize the meta-GWASes\n",
    "\n",
    "### CHANGELOG\n",
    "- 22-FEB-2023: Notebook started \n",
    "\n",
    "---\n",
    "# Data Overview \n",
    "\n",
    "| ANCESTRY |     DATASET     | CASES | CONTROLS |  TOTAL  |           ARRAY           |                NOTES                |\n",
    "|:--------:|:---------------:|:-----:|:--------:|:-------------------------:|:---------------------------------------------------------------------------------------------------------------:|:-----------------------------------:|\n",
    "|    AFR   | IPDGC – Nigeria |  304  |    285   |   589   |         NeuroChip         | . | \n",
    "|    AFR   |  GP2  |  711  |   1,011  |  1,722  |        NeuroBooster       | . |\n",
    "|    AAC   |  GP2 |  185  |   1,149  |  1,334  |        NeuroBooster       | . | \n",
    "|    AAC   |     23andMe     |  288  |  193,985 | 194,273 | Omni Express & GSA & 550k |        Just summary statistics       |"
   ]
  },
  {
   "attachments": {},
   "cell_type": "markdown",
   "id": "e3d109ba-db24-4be4-88ae-745552fd27a0",
   "metadata": {
    "tags": []
   },
   "source": [
    "# Getting Started"
   ]
  },
  {
   "cell_type": "markdown",
   "id": "639c84a9-a82a-4ecb-b5c3-05dcde2fec23",
   "metadata": {},
   "source": [
    "## Importing packages"
   ]
  },
  {
   "cell_type": "code",
   "execution_count": 4,
   "id": "342e48ed-fc42-4f1a-9ffc-a7bfd194a535",
   "metadata": {},
   "outputs": [
    {
     "name": "stdout",
     "output_type": "stream",
     "text": [
      "PACKAGE VERSIONS (25-FEB-2023)\n",
      "\tgwaslab==3.3.20\n",
      "\tmatplotlib==3.5.2\n",
      "\tnumpy==1.22.4\n",
      "\tscipy==1.8.1\n",
      "\tpandas==1.4.3\n",
      "\tstatsmodels==0.13.2\n",
      "\tseaborn==0.11.2\n"
     ]
    }
   ],
   "source": [
    "## Import the necessary packages \n",
    "import os\n",
    "import numpy as np\n",
    "import pandas as pd\n",
    "import gwaslab as gl\n",
    "import math\n",
    "import sys\n",
    "import subprocess\n",
    "import statsmodels.api as sm\n",
    "import scipy\n",
    "from scipy import stats\n",
    "import matplotlib.pyplot as plt\n",
    "import seaborn as sns\n",
    "from IPython.display import display\n",
    "\n",
    "## Print out package versions\n",
    "## Getting packages loaded into this notebook and their versions to allow for reproducibility\n",
    "    # Repurposed code from stackoverflow here: https://stackoverflow.com/questions/40428931/package-for-listing-version-of-packages-used-in-a-jupyter-notebook\n",
    "\n",
    "## Import packages \n",
    "import pkg_resources\n",
    "import types\n",
    "from datetime import date\n",
    "today = date.today()\n",
    "date = today.strftime(\"%d-%b-%Y\").upper()\n",
    "\n",
    "## Define function \n",
    "def get_imports():\n",
    "    for name, val in globals().items():\n",
    "        if isinstance(val, types.ModuleType):\n",
    "            # Split ensures you get root package, not just imported function\n",
    "            name = val.__name__.split(\".\")[0]\n",
    "\n",
    "        elif isinstance(val, type):\n",
    "            name = val.__module__.split(\".\")[0]\n",
    "\n",
    "        # Some packages are weird and have different imported names vs. system/pip names\n",
    "        # Unfortunately, there is no systematic way to get pip names from a package's imported name. You'll have to add exceptions to this list manually!\n",
    "        poorly_named_packages = {\n",
    "            \"PIL\": \"Pillow\",\n",
    "            \"sklearn\": \"scikit-learn\"\n",
    "        }\n",
    "        if name in poorly_named_packages.keys():\n",
    "            name = poorly_named_packages[name]\n",
    "\n",
    "        yield name\n",
    "\n",
    "## Get a list of packages imported \n",
    "imports = list(set(get_imports()))\n",
    "\n",
    "# The only way I found to get the version of the root package from only the name of the package is to cross-check the names of installed packages vs. imported packages\n",
    "requirements = []\n",
    "for m in pkg_resources.working_set:\n",
    "    if m.project_name in imports and m.project_name!=\"pip\":\n",
    "        requirements.append((m.project_name, m.version))\n",
    "\n",
    "## Print out packages and versions \n",
    "print(f\"PACKAGE VERSIONS ({date})\")\n",
    "for r in requirements:\n",
    "    print(\"\\t{}=={}\".format(*r))"
   ]
  },
  {
   "cell_type": "markdown",
   "id": "74e4f09f-ade1-4ecf-9103-ac0c070204c7",
   "metadata": {},
   "source": [
    "# Cleaning METAL outputs"
   ]
  },
  {
   "cell_type": "code",
   "execution_count": 4,
   "id": "10946dc1-15ae-4d74-885f-bef47c809ad7",
   "metadata": {},
   "outputs": [],
   "source": [
    "## Read in METAL outputs  \n",
    "aac_meta = pd.read_csv(f\"{WORK_DIR}/data/AAC-META/AAC-ONLY-META-UpdatedforMETAL1.tbl\", sep=\"\\t\")\n",
    "afr_meta = pd.read_csv(f\"{WORK_DIR}/data/AFR-META/AFR-ONLY-META-UpdatedforMETAL1.tbl\", sep=\"\\t\")\n",
    "combined_meta = pd.read_csv(f\"{WORK_DIR}/data/AFR-AAC-META/AFR-AAC-META-UpdatedforMETAL1.tbl\", sep=\"\\t\")"
   ]
  },
  {
   "cell_type": "code",
   "execution_count": 5,
   "id": "aeaff4f0-7ffe-4a08-8995-f8f0917af573",
   "metadata": {},
   "outputs": [],
   "source": [
    "## Process \n",
    "\n",
    "## AAC ONLY\n",
    "aac_meta[['CHR', 'BP', 'REF', 'ALT']] = aac_meta.MarkerName.str.split(\":\", expand = True)\n",
    "aac_meta['CHR'] = aac_meta['CHR'].str.split('r', 1).str[1]\n",
    "aac_meta.to_csv(f\"{WORK_DIR}/data/AAC-META/CHR-BP-AAC-ONLY-UpdatedforMETAL1.tbl\", index=False, sep=\"\\t\")\n",
    "\n",
    "## AFR ONLY\n",
    "afr_meta[['CHR', 'BP', 'REF', 'ALT']] = afr_meta.MarkerName.str.split(\":\", expand = True)\n",
    "afr_meta['CHR'] = afr_meta['CHR'].str.split('r', 1).str[1]\n",
    "afr_meta.to_csv(f\"{WORK_DIR}/data/AFR-META/CHR-BP-AFR-ONLY-UpdatedforMETAL1.tbl\", index=False, sep=\"\\t\")\n",
    "\n",
    "## AAC+AFR\n",
    "combined_meta[['CHR', 'BP', 'REF', 'ALT']] = combined_meta.MarkerName.str.split(\":\", expand = True)\n",
    "combined_meta['CHR'] = combined_meta['CHR'].str.split('r', 1).str[1]\n",
    "combined_meta.to_csv(f\"{WORK_DIR}/data/AFR-AAC-META/CHR-BP-AFR-AAC-UpdatedforMETAL1.tbl\", index=False, sep=\"\\t\")"
   ]
  },
  {
   "cell_type": "markdown",
   "id": "f9697cf1-549a-46b4-875b-b30caf0602f4",
   "metadata": {},
   "source": [
    "# Zipping .tbl files for GWASlab"
   ]
  },
  {
   "cell_type": "code",
   "execution_count": 7,
   "id": "df9c4f0d-59d6-4ef9-8488-c3cf16cd2fba",
   "metadata": {},
   "outputs": [
    {
     "name": "stderr",
     "output_type": "stream",
     "text": [
      "[+] Loading samtools 1.17  ... \n"
     ]
    }
   ],
   "source": [
    "%%bash\n",
    "\n",
    "module load samtools\n",
    "\n",
    "bgzip ${WORK_DIR}/data/AAC-META/CHR-BP-AAC-ONLY-UpdatedforMETAL1.tbl\n",
    "bgzip ${WORK_DIR}/data/AFR-META/CHR-BP-AFR-ONLY-UpdatedforMETAL1.tbl\n",
    "bgzip ${WORK_DIR}/data/AFR-AAC-META/CHR-BP-AFR-AAC-UpdatedforMETAL1.tbl"
   ]
  },
  {
   "cell_type": "markdown",
   "id": "4bd85d4f-8b94-420a-a45e-ace989eeac0a",
   "metadata": {},
   "source": [
    "# Visualization"
   ]
  },
  {
   "cell_type": "markdown",
   "id": "6f85b05f-d194-4b33-973e-8b245e807436",
   "metadata": {},
   "source": [
    "## AAC ONLY Meta-GWAS"
   ]
  },
  {
   "cell_type": "code",
   "execution_count": null,
   "id": "2d5f4dae-464d-419a-a7bb-f4263c358dc2",
   "metadata": {},
   "outputs": [],
   "source": [
    "mysumstats = gl.Sumstats(f\"{WORK_DIR}/data/AAC-META/CHR-BP-AAC-ONLY-UpdatedforMETAL1.tbl.gz\",\n",
    "             snpid=\"MarkerName\",\n",
    "             chrom=\"CHR\",\n",
    "             pos=\"BP\",\n",
    "             ea=\"Allele1\",\n",
    "             nea=\"Allele2\",\n",
    "             beta=\"Effect\",\n",
    "             se=\"StdErr\",\n",
    "             p=\"P-value\",\n",
    "             direction=\"Direction\",\n",
    "             build=\"38\")\n",
    "  \n",
    "mysumstats.plot_mqq(save=f\"{WORK_DIR}/data/AAC-META/AAC-ONLY-META-QQplot-FEB2023.png\")"
   ]
  },
  {
   "cell_type": "markdown",
   "id": "84386eaa-2656-439b-93fc-045288a3aa2c",
   "metadata": {},
   "source": [
    "## AFR ONLY Meta-GWAS"
   ]
  },
  {
   "cell_type": "code",
   "execution_count": null,
   "id": "405ff03b-c25e-4a93-9f43-9899f7899615",
   "metadata": {},
   "outputs": [],
   "source": [
    "mysumstats = gl.Sumstats(f\"{WORK_DIR}/data/AFR-META/CHR-BP-AFR-ONLY-UpdatedforMETAL1.tbl.gz\",\n",
    "             snpid=\"MarkerName\",\n",
    "             chrom=\"CHR\",\n",
    "             pos=\"BP\",\n",
    "             ea=\"Allele1\",\n",
    "             nea=\"Allele2\",\n",
    "             beta=\"Effect\",\n",
    "             se=\"StdErr\",\n",
    "             p=\"P-value\",\n",
    "             direction=\"Direction\",\n",
    "             build=\"38\")\n",
    "  \n",
    "mysumstats.plot_mqq(save=f\"{WORK_DIR}/data/AFR-META/AFR-ONLY-META-QQplot-FEB2023.png\")"
   ]
  },
  {
   "cell_type": "markdown",
   "id": "384ae8ae-9551-4065-9e42-460e178d918a",
   "metadata": {},
   "source": [
    "## Joint AFR-AAC Meta-GWAS"
   ]
  },
  {
   "cell_type": "code",
   "execution_count": null,
   "id": "10cc31b3-fd3a-4635-9015-84dc6fb81f21",
   "metadata": {},
   "outputs": [],
   "source": [
    "mysumstats = gl.Sumstats(f\"{WORK_DIR}/data/AFR-AAC-META/CHR-BP-AFR-AAC-UpdatedforMETAL1.tbl.gz\",\n",
    "             snpid=\"MarkerName\",\n",
    "             chrom=\"CHR\",\n",
    "             pos=\"BP\",\n",
    "             ea=\"Allele1\",\n",
    "             nea=\"Allele2\",\n",
    "             beta=\"Effect\",\n",
    "             se=\"StdErr\",\n",
    "             p=\"P-value\",\n",
    "             direction=\"Direction\",\n",
    "             build=\"38\")\n",
    "  \n",
    "mysumstats.plot_mqq(save=f\"{WORK_DIR}/data/AFR-AAC-META/AFR-AAC-META-QQplot-FEB2023.png\")"
   ]
  },
  {
   "cell_type": "code",
   "execution_count": null,
   "id": "4dc90a92-4db7-444c-a611-e68c377dd249",
   "metadata": {},
   "outputs": [],
   "source": [
    "mysumstats = gl.Sumstats(f\"{WORK_DIR}/data/AFR-AAC-META/CHR-BP-AFR-AAC-UpdatedforMETAL1.tbl.gz\",\n",
    "             snpid=\"MarkerName\",\n",
    "             chrom=\"CHR\",\n",
    "             pos=\"BP\",\n",
    "             ea=\"Allele1\",\n",
    "             nea=\"Allele2\",\n",
    "             beta=\"Effect\",\n",
    "             se=\"StdErr\",\n",
    "             p=\"P-value\",\n",
    "             direction=\"Direction\",\n",
    "             build=\"38\")\n"
   ]
  },
  {
   "cell_type": "markdown",
   "id": "003cd03e-67e9-46b5-a234-1e52771389b2",
   "metadata": {},
   "source": [
    "# Adding Highlights"
   ]
  },
  {
   "cell_type": "code",
   "execution_count": null,
   "id": "8f999e77-ec66-4bd9-a7cd-f9befbd88b34",
   "metadata": {},
   "outputs": [],
   "source": [
    "mysumstats.plot_mqq(anno_set=[\"chr1:155235878:G:T\"],\n",
    "                    highlight=[\"chr1:155235878:G:T\"],\n",
    "                    pinpoint=[\"chr1:155235878:G:T\"],\n",
    "                    anno_alias={\"chr1:155235878:G:T\":\"rs3115534\"},\n",
    "                    save=f\"{WORK_DIR}/data/AFR-AAC-META/AFR-AAC-META-QQplot-FEB2023-wANNO.png\")"
   ]
  }
 ],
 "metadata": {
  "kernelspec": {
   "display_name": "python/3.9",
   "language": "python",
   "name": "py3.9"
  },
  "language_info": {
   "codemirror_mode": {
    "name": "ipython",
    "version": 3
   },
   "file_extension": ".py",
   "mimetype": "text/x-python",
   "name": "python",
   "nbconvert_exporter": "python",
   "pygments_lexer": "ipython3",
   "version": "3.9.15"
  }
 },
 "nbformat": 4,
 "nbformat_minor": 5
}
