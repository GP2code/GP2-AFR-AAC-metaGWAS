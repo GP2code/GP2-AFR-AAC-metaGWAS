{
 "cells": [
  {
   "attachments": {},
   "cell_type": "markdown",
   "id": "d84060ed-e42f-4b65-bf96-48c9b9f8a2f9",
   "metadata": {},
   "source": [
    "# Meta-analysis 3: AFR/AAC Meta-GWAS\n",
    "- **Project:** GP2 AFR-AAC meta-GWAS \n",
    "- **Version:** Python/3.9\n",
    "- **Status:** COMPLETE\n",
    "- **Started:** 22-FEB-2023\n",
    "- **Last Updated:** 22-FEB-2023\n",
    "    - **Update Description:**  Notebook started\n",
    "\n",
    "## Notebook Overview\n",
    "- Meta-GWAS #3: Looking at African and African admixed individuals\n",
    "\n",
    "### CHANGELOG\n",
    "- 22-FEB-2023: Notebook started \n",
    "\n",
    "---\n",
    "# Data Overview \n",
    "\n",
    "| ANCESTRY |     DATASET     | CASES | CONTROLS |  TOTAL  |           ARRAY           |                NOTES                |\n",
    "|:--------:|:---------------:|:-----:|:--------:|:-------------------------:|:---------------------------------------------------------------------------------------------------------------:|:-----------------------------------:|\n",
    "|    AFR   | IPDGC – Nigeria |  304  |    285   |   589   |         NeuroChip         | . | \n",
    "|    AFR   |  GP2  |  711  |   1,011  |  1,722  |        NeuroBooster       | . |\n",
    "|    AAC   |  GP2 |  185  |   1,149  |  1,334  |        NeuroBooster       | . | \n",
    "|    AAC   |     23andMe     |  288  |  193,985 | 194,273 | Omni Express & GSA & 550k |        Just summary statistics       |"
   ]
  },
  {
   "attachments": {},
   "cell_type": "markdown",
   "id": "92f2efeb-3500-461e-b078-3955ede73958",
   "metadata": {
    "tags": []
   },
   "source": [
    "# Getting Started"
   ]
  },
  {
   "cell_type": "markdown",
   "id": "672adc8e-56ac-48c5-afb7-877e9455a58e",
   "metadata": {},
   "source": [
    "## Importing packages"
   ]
  },
  {
   "cell_type": "code",
   "execution_count": 3,
   "id": "8f0b3c50-79e2-4809-8900-af3c6071a137",
   "metadata": {},
   "outputs": [
    {
     "name": "stdout",
     "output_type": "stream",
     "text": [
      "PACKAGE VERSIONS (25-FEB-2023)\n",
      "\tmatplotlib==3.5.2\n",
      "\tnumpy==1.22.4\n",
      "\tscipy==1.8.1\n",
      "\tpandas==1.4.3\n",
      "\tstatsmodels==0.13.2\n",
      "\tseaborn==0.11.2\n"
     ]
    }
   ],
   "source": [
    "## Import the necessary packages \n",
    "import os\n",
    "import numpy as np\n",
    "import pandas as pd\n",
    "import math\n",
    "import numbers\n",
    "import sys\n",
    "import subprocess\n",
    "import statsmodels.api as sm\n",
    "import scipy\n",
    "from scipy import stats\n",
    "import matplotlib.pyplot as plt\n",
    "import seaborn as sns\n",
    "from IPython.display import display\n",
    "\n",
    "## Print out package versions\n",
    "## Getting packages loaded into this notebook and their versions to allow for reproducibility\n",
    "    # Repurposed code from stackoverflow here: https://stackoverflow.com/questions/40428931/package-for-listing-version-of-packages-used-in-a-jupyter-notebook\n",
    "\n",
    "## Import packages \n",
    "import pkg_resources\n",
    "import types\n",
    "from datetime import date\n",
    "today = date.today()\n",
    "date = today.strftime(\"%d-%b-%Y\").upper()\n",
    "\n",
    "## Define function \n",
    "def get_imports():\n",
    "    for name, val in globals().items():\n",
    "        if isinstance(val, types.ModuleType):\n",
    "            # Split ensures you get root package, not just imported function\n",
    "            name = val.__name__.split(\".\")[0]\n",
    "\n",
    "        elif isinstance(val, type):\n",
    "            name = val.__module__.split(\".\")[0]\n",
    "\n",
    "        # Some packages are weird and have different imported names vs. system/pip names\n",
    "        # Unfortunately, there is no systematic way to get pip names from a package's imported name. You'll have to add exceptions to this list manually!\n",
    "        poorly_named_packages = {\n",
    "            \"PIL\": \"Pillow\",\n",
    "            \"sklearn\": \"scikit-learn\"\n",
    "        }\n",
    "        if name in poorly_named_packages.keys():\n",
    "            name = poorly_named_packages[name]\n",
    "\n",
    "        yield name\n",
    "\n",
    "## Get a list of packages imported \n",
    "imports = list(set(get_imports()))\n",
    "\n",
    "# The only way I found to get the version of the root package from only the name of the package is to cross-check the names of installed packages vs. imported packages\n",
    "requirements = []\n",
    "for m in pkg_resources.working_set:\n",
    "    if m.project_name in imports and m.project_name!=\"pip\":\n",
    "        requirements.append((m.project_name, m.version))\n",
    "\n",
    "## Print out packages and versions \n",
    "print(f\"PACKAGE VERSIONS ({date})\")\n",
    "for r in requirements:\n",
    "    print(\"\\t{}=={}\".format(*r))"
   ]
  },
  {
   "cell_type": "markdown",
   "id": "01dcf0c5-0fc7-4f71-8838-9d0006c4cff4",
   "metadata": {},
   "source": [
    "---\n",
    "# Write out METAL command (here for documentation -- needs to be run interactively!)\n",
    "\n",
    "```bash\n",
    "module load metal \n",
    "metal << EOT \n",
    "\n",
    "# UNCOMMENT THE NEXT LINE TO ENABLE GenomicControl CORRECTION\n",
    "SCHEME STDERR\n",
    "GENOMICCONTROL ON\n",
    "\n",
    "# === DESCRIBE AND PROCESS THE FIRST INPUT FILE ===\n",
    "MARKER markerID\n",
    "ALLELE effect_allele other_allele\n",
    "# FREQ   maf\n",
    "EFFECT beta\n",
    "STDERR LOG(OR)_SE\n",
    "PVALUE P\n",
    "# WEIGHT OBS_CT \n",
    "PROCESS /data/GP2/projects/2023_02_MBM_AFR_AAC_GWAS/data/AFR/GP2-v4-AFR-wNIGERIAN-NB/GP2-v4-AFR-wNIGERIAN-NB-GWAS-MAF005-FEB2023.UpdatedforMETAL.tab\n",
    "\n",
    "# === DESCRIBE AND PROCESS THE SECOND INPUT FILE ===\n",
    "MARKER markerID\n",
    "ALLELE effect_allele other_allele\n",
    "# FREQ   maf\n",
    "EFFECT beta\n",
    "STDERR LOG(OR)_SE\n",
    "PVALUE P\n",
    "# WEIGHT OBS_CT \n",
    "PROCESS /data/GP2/projects/2023_02_MBM_AFR_AAC_GWAS/data/AFR/NIGERIAN-NC/NIGERIAN-NEUROCHIP-AFR-GWAS-MAF005-FEB2023.UpdatedforMETAL.tab\n",
    "\n",
    "# === DESCRIBE AND PROCESS THE THIRD INPUT FILE ===\n",
    "MARKER markerID\n",
    "ALLELE effect_allele other_allele\n",
    "# FREQ   maf\n",
    "EFFECT beta\n",
    "STDERR LOG(OR)_SE\n",
    "PVALUE P\n",
    "# WEIGHT OBS_CT \n",
    "PROCESS /data/GP2/projects/2023_02_MBM_AFR_AAC_GWAS/data/AAC/GP2-v4-AAC/GP2-v4-AAC-GWAS-MAF005-FEB2023.UpdatedforMETAL.tab\n",
    "\n",
    "# === DESCRIBE AND PROCESS THE FOURTH INPUT FILE ===\n",
    "MARKER markerID\n",
    "ALLELE effect_allele alt_allele\n",
    "# FREQ   maf\n",
    "EFFECT effect\n",
    "STDERR stderr\n",
    "PVALUE pvalue\n",
    "# WEIGHT N\n",
    "PROCESS /data/GP2/projects/2023_02_MBM_AFR_AAC_GWAS/data/23andMe/AAC_23andMe_MAF0.05.hg38.noindels.newMarkerIDs.tab\n",
    "\n",
    "OUTFILE /data/GP2/projects/2023_02_MBM_AFR_AAC_GWAS/data/AFR-AAC-META/AFR-AAC-META-UpdatedforMETAL .tbl\n",
    "ANALYZE HETEROGENEITY\n",
    "QUIT\n",
    "``` \n",
    "**Then Control+D to submit job!**\n"
   ]
  },
  {
   "cell_type": "markdown",
   "id": "865f47ca-b518-4fce-bb91-9cf6aa9e04a4",
   "metadata": {},
   "source": [
    "# Investigate Top Hits"
   ]
  },
  {
   "cell_type": "code",
   "execution_count": 4,
   "id": "ae0172f8-5cee-489c-8bc3-83cec571251a",
   "metadata": {},
   "outputs": [
    {
     "name": "stdout",
     "output_type": "stream",
     "text": [
      "35\n",
      "MarkerName\tAllele1\tAllele2\tEffect\tStdErr\tP-value\tDirection\tHetISq\tHetChiSq\tHetDf\tHetPVal\n",
      "chr1:155235878:G:T\tt\tg\t-0.4494\t0.0589\t2.397e-14\t----\t0.0\t2.878\t3\t0.4108\n",
      "chr1:155167551:T:C\tt\tc\t0.2868\t0.0509\t1.749e-08\t++++\t54.0\t6.520\t3\t0.08888\n",
      "chr1:155165746:T:C\tt\tc\t0.2902\t0.0501\t7.086e-09\t++++\t55.3\t6.706\t3\t0.08189\n",
      "chr1:155317797:C:T\tt\tc\t-0.3894\t0.0625\t4.685e-10\t----\t29.2\t4.236\t3\t0.2371\n",
      "chr1:155394894:G:A\ta\tg\t-0.3913\t0.0627\t4.317e-10\t----\t17.7\t3.646\t3\t0.3023\n",
      "chr1:155490050:A:G\ta\tg\t0.4240\t0.0631\t1.871e-11\t++++\t0.0\t1.806\t3\t0.6137\n",
      "chr1:155060276:A:G\ta\tg\t-0.3735\t0.0641\t5.688e-09\t----\t0.0\t2.298\t3\t0.5129\n",
      "chr1:155168172:C:T\tt\tc\t-0.2854\t0.0500\t1.125e-08\t----\t49.7\t5.959\t3\t0.1136\n",
      "chr1:155160272:C:T\tt\tc\t0.4367\t0.0583\t6.724e-14\t++++\t34.2\t4.558\t3\t0.2072\n",
      "chr1:155619507:T:C\tt\tc\t0.3757\t0.0641\t4.663e-09\t++++\t0.0\t1.521\t3\t0.6775\n",
      "chr1:155166081:A:G\ta\tg\t0.2902\t0.0501\t7.136e-09\t++++\t53.5\t6.452\t3\t0.09158\n",
      "chr1:155169753:G:A\ta\tg\t-0.2898\t0.0501\t7.466e-09\t----\t51.8\t6.229\t3\t0.101\n",
      "chr1:155165974:C:T\tt\tc\t-0.2908\t0.0502\t7.021e-09\t----\t54.0\t6.518\t3\t0.08894\n",
      "chr1:155699087:G:T\tt\tg\t0.3618\t0.0648\t2.391e-08\t++++\t0.0\t1.812\t3\t0.6124\n",
      "chr1:155167033:T:C\tt\tc\t0.2900\t0.0502\t7.518e-09\t++++\t53.0\t6.379\t3\t0.09454\n",
      "chr1:155064184:G:C\tc\tg\t0.3817\t0.0649\t4.098e-09\t++++\t0.0\t1.433\t3\t0.6979\n",
      "chr1:155059314:G:A\ta\tg\t0.3689\t0.0663\t2.626e-08\t++++\t0.0\t1.318\t3\t0.7249\n",
      "chr1:155142298:A:G\ta\tg\t0.3444\t0.0557\t6.056e-10\t++++\t29.2\t4.240\t3\t0.2367\n",
      "chr1:155155273:T:C\tt\tc\t0.2788\t0.0503\t3.033e-08\t++++\t35.5\t4.652\t3\t0.1991\n",
      "chr1:155169734:A:G\ta\tg\t0.2884\t0.0501\t8.551e-09\t++++\t51.8\t6.229\t3\t0.101\n",
      "chr1:155151361:G:C\tc\tg\t0.2936\t0.0510\t8.571e-09\t++++\t32.9\t4.470\t3\t0.215\n",
      "chr1:155162859:T:C\tt\tc\t0.2907\t0.0500\t6.006e-09\t++++\t58.0\t7.148\t3\t0.06732\n",
      "chr1:155587025:A:G\ta\tg\t0.3955\t0.0637\t5.375e-10\t++++\t0.0\t1.686\t3\t0.64\n",
      "chr1:155664995:T:C\tt\tc\t-0.3719\t0.0662\t1.889e-08\t----\t0.0\t1.710\t3\t0.6346\n",
      "chr1:155162930:G:A\ta\tg\t-0.2878\t0.0500\t8.831e-09\t----\t52.9\t6.376\t3\t0.09469\n",
      "chr1:155170407:T:A\ta\tt\t-0.2886\t0.0501\t8.613e-09\t----\t52.6\t6.332\t3\t0.09652\n",
      "chr1:155447428:T:C\tt\tc\t0.4151\t0.0631\t4.74e-11\t++++\t0.0\t2.682\t3\t0.4433\n",
      "chr1:155438844:T:C\tt\tc\t0.4141\t0.0630\t5.002e-11\t++++\t0.0\t2.680\t3\t0.4437\n",
      "chr1:155609302:T:G\tt\tg\t0.3951\t0.0657\t1.779e-09\t++++\t0.0\t1.736\t3\t0.6289\n",
      "chr1:155324483:A:G\ta\tg\t0.3891\t0.0625\t4.823e-10\t++++\t29.3\t4.241\t3\t0.2366\n",
      "chr1:155170451:A:G\ta\tg\t0.2864\t0.0500\t9.944e-09\t++++\t49.6\t5.953\t3\t0.1139\n",
      "chr1:155281459:T:C\tt\tc\t0.4123\t0.0624\t3.95e-11\t++++\t36.1\t4.698\t3\t0.1953\n",
      "chr1:155591887:C:T\tt\tc\t-0.4068\t0.0658\t6.136e-10\t----\t0.0\t1.104\t3\t0.776\n",
      "chr1:155157915:G:A\ta\tg\t-0.2732\t0.0499\t4.282e-08\t----\t21.1\t3.802\t3\t0.2836\n",
      "chr1:155517618:A:G\ta\tg\t0.4229\t0.0633\t2.379e-11\t++++\t0.0\t1.838\t3\t0.6066\n"
     ]
    }
   ],
   "source": [
    "%%bash \n",
    "\n",
    "cat ${WORK_DIR}/data/AFR-AAC-META/AFR-AAC-META-UpdatedforMETAL1.tbl | awk '$6 <= 0.00000005' | wc -l\n",
    "head -1 ${WORK_DIR}/data/AFR-AAC-META/AFR-AAC-META-UpdatedforMETAL1.tbl\n",
    "cat ${WORK_DIR}/data/AFR-AAC-META/AFR-AAC-META-UpdatedforMETAL1.tbl | awk '$6 <= 0.00000005' "
   ]
  },
  {
   "cell_type": "markdown",
   "id": "f9d36709-abe3-4e8a-9a3e-c5d891a63575",
   "metadata": {},
   "source": [
    "# Investigate which hits were imputed and which were genotyped"
   ]
  },
  {
   "cell_type": "code",
   "execution_count": 5,
   "id": "7665a273-01fd-4e01-91cb-35b7c6f64210",
   "metadata": {},
   "outputs": [],
   "source": [
    "%%bash\n",
    "cat ${WORK_DIR}/data/AFR-AAC-META/AFR-AAC-META-UpdatedforMETAL1.tbl | awk '$6 <= 0.00000005' | awk '{print $1}' > ${WORK_DIR}/data/AFR-AAC-META/genomewide-hits.txt"
   ]
  },
  {
   "cell_type": "code",
   "execution_count": 6,
   "id": "8170e202-5741-4f2f-b5ad-60a304d27409",
   "metadata": {},
   "outputs": [],
   "source": [
    "%%bash\n",
    "grep -E -f ${WORK_DIR}/data/AFR-AAC-META/genomewide-hits.txt ${WORK_DIR}/data/AFR/GP2-v4-AFR-wNIGERIAN-NB/GP2-v4-AFR-wNIGERIAN-NB-noSEXPHENO.pvar > ${WORK_DIR}/data/AFR-AAC-META/genomewide-hits-extractPVAR.txt"
   ]
  },
  {
   "cell_type": "code",
   "execution_count": null,
   "id": "f86e063a-7642-46c9-a681-5e7e8fe34837",
   "metadata": {},
   "outputs": [],
   "source": []
  }
 ],
 "metadata": {
  "kernelspec": {
   "display_name": "python/3.9",
   "language": "python",
   "name": "py3.9"
  },
  "language_info": {
   "codemirror_mode": {
    "name": "ipython",
    "version": 3
   },
   "file_extension": ".py",
   "mimetype": "text/x-python",
   "name": "python",
   "nbconvert_exporter": "python",
   "pygments_lexer": "ipython3",
   "version": "3.9.15"
  }
 },
 "nbformat": 4,
 "nbformat_minor": 5
}
