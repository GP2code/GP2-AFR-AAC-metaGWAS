{
 "cells": [
  {
   "attachments": {},
   "cell_type": "markdown",
   "id": "651e3b19-671a-4bb0-93ba-94cc78dbbc4e",
   "metadata": {},
   "source": [
    "# Meta-analysis 2: AFR Only\n",
    "- **Project:** GP2 AFR-AAC meta-GWAS \n",
    "- **Version:** Python/3.9\n",
    "- **Status:** COMPLETE\n",
    "- **Started:** 22-FEB-2023\n",
    "- **Last Updated:** 22-FEB-2023\n",
    "    - **Update Description:**  Notebook started\n",
    "\n",
    "## Notebook Overview\n",
    "- Meta-GWAS #2: Looking at African individuals only\n",
    "\n",
    "### CHANGELOG\n",
    "- 22-FEB-2023: Notebook started \n",
    "\n",
    "---\n",
    "# Data Overview \n",
    "\n",
    "| ANCESTRY |     DATASET     | CASES | CONTROLS |  TOTAL  |           ARRAY           |                NOTES                |\n",
    "|:--------:|:---------------:|:-----:|:--------:|:-------------------------:|:---------------------------------------------------------------------------------------------------------------:|:-----------------------------------:|\n",
    "|    AFR   | IPDGC – Nigeria |  304  |    285   |   589   |         NeuroChip         | . | \n",
    "|    AFR   |  GP2  |  711  |   1,011  |  1,722  |        NeuroBooster       | . |\n",
    "|    AAC   |  GP2 |  185  |   1,149  |  1,334  |        NeuroBooster       | . | \n",
    "|    AAC   |     23andMe     |  288  |  193,985 | 194,273 | Omni Express & GSA & 550k |        Just summary statistics       |"
   ]
  },
  {
   "attachments": {},
   "cell_type": "markdown",
   "id": "ada9618b-7bd0-4dac-bc3e-6710c3d69abd",
   "metadata": {
    "tags": []
   },
   "source": [
    "# Getting Started"
   ]
  },
  {
   "cell_type": "markdown",
   "id": "7e737c5d-19a2-43e2-b500-e11d880e563d",
   "metadata": {},
   "source": [
    "## Importing packages"
   ]
  },
  {
   "cell_type": "code",
   "execution_count": 3,
   "id": "44382075-b10d-4c89-af0e-d0fe7206c048",
   "metadata": {},
   "outputs": [
    {
     "name": "stdout",
     "output_type": "stream",
     "text": [
      "PACKAGE VERSIONS (22-FEB-2023)\n",
      "\tmatplotlib==3.5.2\n",
      "\tnumpy==1.22.4\n",
      "\tscipy==1.8.1\n",
      "\tpandas==1.4.3\n",
      "\tstatsmodels==0.13.2\n",
      "\tseaborn==0.11.2\n"
     ]
    }
   ],
   "source": [
    "## Import the necessary packages \n",
    "import os\n",
    "import numpy as np\n",
    "import pandas as pd\n",
    "import math\n",
    "import numbers\n",
    "import sys\n",
    "import subprocess\n",
    "import statsmodels.api as sm\n",
    "import scipy\n",
    "from scipy import stats\n",
    "import matplotlib.pyplot as plt\n",
    "import seaborn as sns\n",
    "from IPython.display import display\n",
    "\n",
    "## Print out package versions\n",
    "## Getting packages loaded into this notebook and their versions to allow for reproducibility\n",
    "    # Repurposed code from stackoverflow here: https://stackoverflow.com/questions/40428931/package-for-listing-version-of-packages-used-in-a-jupyter-notebook\n",
    "\n",
    "## Import packages \n",
    "import pkg_resources\n",
    "import types\n",
    "from datetime import date\n",
    "today = date.today()\n",
    "date = today.strftime(\"%d-%b-%Y\").upper()\n",
    "\n",
    "## Define function \n",
    "def get_imports():\n",
    "    for name, val in globals().items():\n",
    "        if isinstance(val, types.ModuleType):\n",
    "            # Split ensures you get root package, not just imported function\n",
    "            name = val.__name__.split(\".\")[0]\n",
    "\n",
    "        elif isinstance(val, type):\n",
    "            name = val.__module__.split(\".\")[0]\n",
    "\n",
    "        # Some packages are weird and have different imported names vs. system/pip names\n",
    "        # Unfortunately, there is no systematic way to get pip names from a package's imported name. You'll have to add exceptions to this list manually!\n",
    "        poorly_named_packages = {\n",
    "            \"PIL\": \"Pillow\",\n",
    "            \"sklearn\": \"scikit-learn\"\n",
    "        }\n",
    "        if name in poorly_named_packages.keys():\n",
    "            name = poorly_named_packages[name]\n",
    "\n",
    "        yield name\n",
    "\n",
    "## Get a list of packages imported \n",
    "imports = list(set(get_imports()))\n",
    "\n",
    "# The only way I found to get the version of the root package from only the name of the package is to cross-check the names of installed packages vs. imported packages\n",
    "requirements = []\n",
    "for m in pkg_resources.working_set:\n",
    "    if m.project_name in imports and m.project_name!=\"pip\":\n",
    "        requirements.append((m.project_name, m.version))\n",
    "\n",
    "## Print out packages and versions \n",
    "print(f\"PACKAGE VERSIONS ({date})\")\n",
    "for r in requirements:\n",
    "    print(\"\\t{}=={}\".format(*r))"
   ]
  },
  {
   "cell_type": "markdown",
   "id": "60558826-26ff-4f07-8012-dabb3fb358ca",
   "metadata": {},
   "source": [
    "---\n",
    "# Write out METAL command (here for documentation -- needs to be run interactively!)\n",
    "\n",
    "```bash\n",
    "module load metal \n",
    "metal << EOT \n",
    "\n",
    "# UNCOMMENT THE NEXT LINE TO ENABLE GenomicControl CORRECTION\n",
    "SCHEME STDERR\n",
    "GENOMICCONTROL ON\n",
    "\n",
    "# === DESCRIBE AND PROCESS THE FIRST INPUT FILE ===\n",
    "MARKER markerID\n",
    "ALLELE effect_allele other_allele\n",
    "# FREQ   maf\n",
    "EFFECT beta\n",
    "STDERR LOG(OR)_SE\n",
    "PVALUE P\n",
    "# WEIGHT OBS_CT \n",
    "PROCESS /data/GP2/projects/2023_02_MBM_AFR_AAC_GWAS/data/AFR/GP2-v4-AFR-wNIGERIAN-NB/GP2-v4-AFR-wNIGERIAN-NB-GWAS-MAF005-FEB2023.UpdatedforMETAL.tab\n",
    "\n",
    "# === DESCRIBE AND PROCESS THE SECOND INPUT FILE ===\n",
    "MARKER markerID\n",
    "ALLELE effect_allele other_allele\n",
    "# FREQ   maf\n",
    "EFFECT beta\n",
    "STDERR LOG(OR)_SE\n",
    "PVALUE P\n",
    "# WEIGHT OBS_CT \n",
    "PROCESS /data/GP2/projects/2023_02_MBM_AFR_AAC_GWAS/data/AFR/NIGERIAN-NC/NIGERIAN-NEUROCHIP-AFR-GWAS-MAF005-FEB2023.UpdatedforMETAL.tab\n",
    "\n",
    "OUTFILE /data/GP2/projects/2023_02_MBM_AFR_AAC_GWAS/data/AFR-META/AFR-ONLY-META-UpdatedforMETAL .tbl\n",
    "ANALYZE HETEROGENEITY\n",
    "QUIT\n",
    "``` \n",
    "**Then Control+D to submit job!**"
   ]
  },
  {
   "cell_type": "markdown",
   "id": "3f77e6af-5d87-4d41-aa57-8ff6120eb697",
   "metadata": {},
   "source": [
    "# Investigate Top Hits"
   ]
  },
  {
   "cell_type": "code",
   "execution_count": 4,
   "id": "433c84b2-33ec-4e5d-bad6-47a1947ebaf5",
   "metadata": {},
   "outputs": [
    {
     "name": "stdout",
     "output_type": "stream",
     "text": [
      "2\n",
      "MarkerName\tAllele1\tAllele2\tEffect\tStdErr\tP-value\tDirection\tHetISq\tHetChiSq\tHetDf\tHetPVal\n",
      "chr1:155235878:G:T\tt\tg\t-0.4579\t0.0775\t3.436e-09\t--\t20.9\t1.264\t1\t0.2609\n",
      "chr1:155160272:C:T\tt\tc\t0.4178\t0.0761\t3.97e-08\t++\t32.8\t1.488\t1\t0.2225\n"
     ]
    }
   ],
   "source": [
    "%%bash\n",
    "\n",
    "cat ${WORK_DIR}/data/AFR-META/AFR-ONLY-META-UpdatedforMETAL1.tbl | awk '$6 <= 0.00000005'  | wc -l\n",
    "head -1 ${WORK_DIR}/data/AFR-META/AFR-ONLY-META-UpdatedforMETAL1.tbl \n",
    "cat ${WORK_DIR}/data/AFR-META/AFR-ONLY-META-UpdatedforMETAL1.tbl | awk '$6 <= 0.00000005' "
   ]
  },
  {
   "cell_type": "markdown",
   "id": "f4f26911-c608-457f-be07-2d13806fa70c",
   "metadata": {},
   "source": [
    "# Grab imputation scores for top hits"
   ]
  },
  {
   "cell_type": "code",
   "execution_count": 6,
   "id": "e6b5d3eb-4b40-4360-9606-ff22f97ceeb8",
   "metadata": {},
   "outputs": [
    {
     "name": "stdout",
     "output_type": "stream",
     "text": [
      "#CHROM\tPOS\tID\tREF\tALT\tFILTER\tINFO\n",
      "1\t155160272\tchr1:155160272:C:T\tC\tT\tPASS\tAF=0.25913;MAF=0.25913;R2=0.98373;IMPUTED\n",
      "1\t155235878\tchr1:155235878:G:T\tG\tT\tPASS\tAF=0.74023;MAF=0.25977;R2=0.97060;IMPUTED\n"
     ]
    }
   ],
   "source": [
    "%%bash\n",
    "cat ${WORK_DIR}/data/AFR-META/AFR-ONLY-META-UpdatedforMETAL1.tbl | awk '$6 <= 0.00000005' | awk '{print $1}' > ${WORK_DIR}/data/AFR-META/top-AFR-ONLY-META-hits.txt\n",
    "\n",
    "grep -E -f ${WORK_DIR}/data/AFR-META/top-AFR-ONLY-META-hits.txt ${WORK_DIR}/data/AFR/GP2-v4-AFR-wNIGERIAN-NB/GP2-v4-AFR-wNIGERIAN-NB-noSEXPHENO.pvar > ${WORK_DIR}/data/AFR-META/top-AFR-ONLY-META-hits_extractPVAR.txt\n",
    "\n",
    "grep \"#CHROM\" ${WORK_DIR}/data/AFR/GP2-v4-AFR-wNIGERIAN-NB/GP2-v4-AFR-wNIGERIAN-NB-noSEXPHENO.pvar\n",
    "cat ${WORK_DIR}/data/AFR-META/top-AFR-ONLY-META-hits_extractPVAR.txt"
   ]
  },
  {
   "cell_type": "code",
   "execution_count": 7,
   "id": "35c13a4d-5582-4f11-8670-2d7a0602a800",
   "metadata": {},
   "outputs": [],
   "source": [
    "%%bash\n",
    "head -1 ${WORK_DIR}/data/AFR-META/AFR-ONLY-META-UpdatedforMETAL1.tbl > ${WORK_DIR}/data/AFR-META/top-AFR-ONLY-META-hits_allINFO.txt\n",
    "cat ${WORK_DIR}/data/AFR-META/AFR-ONLY-META-UpdatedforMETAL1.tbl | awk '$6 <= 0.00000005' >> ${WORK_DIR}/data/AFR-META/top-AFR-ONLY-META-hits_allINFO.txt"
   ]
  }
 ],
 "metadata": {
  "kernelspec": {
   "display_name": "python/3.9",
   "language": "python",
   "name": "py3.9"
  },
  "language_info": {
   "codemirror_mode": {
    "name": "ipython",
    "version": 3
   },
   "file_extension": ".py",
   "mimetype": "text/x-python",
   "name": "python",
   "nbconvert_exporter": "python",
   "pygments_lexer": "ipython3",
   "version": "3.9.13"
  }
 },
 "nbformat": 4,
 "nbformat_minor": 5
}
