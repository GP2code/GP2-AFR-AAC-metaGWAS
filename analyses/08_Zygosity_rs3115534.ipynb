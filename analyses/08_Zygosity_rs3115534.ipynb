{
 "cells": [
  {
   "attachments": {},
   "cell_type": "markdown",
   "id": "cdd7d31d-28ef-4415-bc68-04b73ecc5dd1",
   "metadata": {},
   "source": [
    "# Zygostity per Group\n",
    "- **Project:** GP2 AFR-AAC meta-GWAS \n",
    "- **Version:** Python/3.9\n",
    "- **Status:** COMPLETE\n",
    "- **Started:** 22-FEB-2023\n",
    "- **Last Updated:** 22-FEB-2023\n",
    "    - **Update Description:**  Notebook started\n",
    "\n",
    "## Notebook Overview\n",
    "- Get the zygosity distribution of individuals for rs3115534\n",
    "\n",
    "### CHANGELOG\n",
    "- 22-FEB-2023: Notebook started \n",
    "\n",
    "\n",
    "---\n",
    "# Data Overview \n",
    "\n",
    "| ANCESTRY |     DATASET     | CASES | CONTROLS |  TOTAL  |           ARRAY           |                NOTES                |\n",
    "|:--------:|:---------------:|:-----:|:--------:|:-------------------------:|:---------------------------------------------------------------------------------------------------------------:|:-----------------------------------:|\n",
    "|    AFR   | IPDGC – Nigeria |  304  |    285   |   589   |         NeuroChip         | . | \n",
    "|    AFR   |  GP2  |  711  |   1,011  |  1,722  |        NeuroBooster       | . |\n",
    "|    AAC   |  GP2 |  185  |   1,149  |  1,334  |        NeuroBooster       | . | \n",
    "|    AAC   |     23andMe     |  288  |  193,985 | 194,273 | Omni Express & GSA & 550k |        Just summary statistics       |\n"
   ]
  },
  {
   "attachments": {},
   "cell_type": "markdown",
   "id": "0e5e2212-7d07-4bc6-bd91-cf333953c87b",
   "metadata": {
    "tags": []
   },
   "source": [
    "# Getting Started"
   ]
  },
  {
   "cell_type": "markdown",
   "id": "ddc7cd90-c678-4bbb-82fb-fce70133af4b",
   "metadata": {},
   "source": [
    "## Importing packages"
   ]
  },
  {
   "cell_type": "code",
   "execution_count": 3,
   "id": "c19cc5fa-b8c3-4042-8ae4-1b5af9c00f79",
   "metadata": {},
   "outputs": [
    {
     "name": "stdout",
     "output_type": "stream",
     "text": [
      "PACKAGE VERSIONS (22-FEB-2023)\n",
      "\tmatplotlib==3.5.2\n",
      "\tnumpy==1.22.4\n",
      "\tscipy==1.8.1\n",
      "\tpandas==1.4.3\n",
      "\tstatsmodels==0.13.2\n",
      "\tseaborn==0.11.2\n"
     ]
    }
   ],
   "source": [
    "## Import the necessary packages \n",
    "import os\n",
    "import numpy as np\n",
    "import pandas as pd\n",
    "import math\n",
    "import numbers\n",
    "import sys\n",
    "import subprocess\n",
    "import statsmodels.api as sm\n",
    "import scipy\n",
    "from scipy import stats\n",
    "import matplotlib.pyplot as plt\n",
    "import seaborn as sns\n",
    "from IPython.display import display\n",
    "\n",
    "## Print out package versions\n",
    "## Getting packages loaded into this notebook and their versions to allow for reproducibility\n",
    "    # Repurposed code from stackoverflow here: https://stackoverflow.com/questions/40428931/package-for-listing-version-of-packages-used-in-a-jupyter-notebook\n",
    "\n",
    "## Import packages \n",
    "import pkg_resources\n",
    "import types\n",
    "from datetime import date\n",
    "today = date.today()\n",
    "date = today.strftime(\"%d-%b-%Y\").upper()\n",
    "\n",
    "## Define function \n",
    "def get_imports():\n",
    "    for name, val in globals().items():\n",
    "        if isinstance(val, types.ModuleType):\n",
    "            # Split ensures you get root package, not just imported function\n",
    "            name = val.__name__.split(\".\")[0]\n",
    "\n",
    "        elif isinstance(val, type):\n",
    "            name = val.__module__.split(\".\")[0]\n",
    "\n",
    "        # Some packages are weird and have different imported names vs. system/pip names\n",
    "        # Unfortunately, there is no systematic way to get pip names from a package's imported name. You'll have to add exceptions to this list manually!\n",
    "        poorly_named_packages = {\n",
    "            \"PIL\": \"Pillow\",\n",
    "            \"sklearn\": \"scikit-learn\"\n",
    "        }\n",
    "        if name in poorly_named_packages.keys():\n",
    "            name = poorly_named_packages[name]\n",
    "\n",
    "        yield name\n",
    "\n",
    "## Get a list of packages imported \n",
    "imports = list(set(get_imports()))\n",
    "\n",
    "# The only way I found to get the version of the root package from only the name of the package is to cross-check the names of installed packages vs. imported packages\n",
    "requirements = []\n",
    "for m in pkg_resources.working_set:\n",
    "    if m.project_name in imports and m.project_name!=\"pip\":\n",
    "        requirements.append((m.project_name, m.version))\n",
    "\n",
    "## Print out packages and versions \n",
    "print(f\"PACKAGE VERSIONS ({date})\")\n",
    "for r in requirements:\n",
    "    print(\"\\t{}=={}\".format(*r))"
   ]
  },
  {
   "cell_type": "markdown",
   "id": "ce129484-cbb0-4bea-90e2-f3069a227d54",
   "metadata": {
    "tags": []
   },
   "source": [
    "# IPDGC – Nigeria – AFR - NC"
   ]
  },
  {
   "cell_type": "markdown",
   "id": "6e8a1a7d-bce8-4cd3-a6ca-a5ee9c90156a",
   "metadata": {},
   "source": [
    "## Pulling out rs3115534 in PLINK"
   ]
  },
  {
   "cell_type": "code",
   "execution_count": null,
   "id": "5c1addd6-4290-4c2f-a8ca-5d09595555dc",
   "metadata": {},
   "outputs": [],
   "source": [
    "%%bash\n",
    "\n",
    "module load plink/1.9\n",
    "\n",
    "plink --bfile ${NG_AFR_NEUROCHIP} \\\n",
    "--snp chr1:155235878:G:T \\\n",
    "--allow-no-sex \\\n",
    "--recodeA --out ${NG_AFR_NEUROCHIP}.rs3115534"
   ]
  },
  {
   "cell_type": "markdown",
   "id": "6e4be8a5-50a2-46f2-9488-3420e37ec632",
   "metadata": {},
   "source": [
    "## Processing .raw file in Python"
   ]
  },
  {
   "cell_type": "code",
   "execution_count": 7,
   "id": "790a26fe-71f1-413e-899c-99e639436169",
   "metadata": {},
   "outputs": [],
   "source": [
    "## Read in .raw file\n",
    "recode = pd.read_csv(f\"{NG_AFR_NEUROCHIP}.rs3115534.raw\", sep=\" \")\n",
    "\n",
    "## Recode some of the columns to make reading summaries easier \n",
    "recode['Phenotype'] = np.where(recode['PHENOTYPE'] == 1, \"Control\", \"Case\")\n",
    "recode['Sex'] = np.where(recode['SEX'] == 1, \"Male\", \"Female\")\n",
    "\n",
    "zygosity =  {0 : 'T/T', \n",
    "             1 : 'G/T', \n",
    "             2 : 'G/G'}\n",
    "\n",
    "recode['1:155235878:G:T_G'] = recode['chr1:155235878:G:T_G'].map(zygosity)"
   ]
  },
  {
   "cell_type": "markdown",
   "id": "1844647f-1917-44f8-b1b4-f3db2e749243",
   "metadata": {},
   "source": [
    "### Summaries of Zygosity by Phenotype "
   ]
  },
  {
   "cell_type": "code",
   "execution_count": 8,
   "id": "b4df65a8-14cb-46b2-94f8-ef0dbca3dd93",
   "metadata": {},
   "outputs": [
    {
     "data": {
      "text/plain": [
       "Phenotype\n",
       "Case       304\n",
       "Control    285\n",
       "Name: IID, dtype: int64"
      ]
     },
     "execution_count": 8,
     "metadata": {},
     "output_type": "execute_result"
    }
   ],
   "source": [
    "recode.groupby(['Phenotype'])['IID'].count()"
   ]
  },
  {
   "cell_type": "code",
   "execution_count": 9,
   "id": "20bc09c0-25d5-428c-9116-4de202b1e616",
   "metadata": {},
   "outputs": [
    {
     "data": {
      "text/plain": [
       "Phenotype  1:155235878:G:T_G\n",
       "Case       G/G                   38\n",
       "           G/T                  120\n",
       "           T/T                  107\n",
       "Control    G/G                   18\n",
       "           G/T                  105\n",
       "           T/T                  121\n",
       "Name: IID, dtype: int64"
      ]
     },
     "execution_count": 9,
     "metadata": {},
     "output_type": "execute_result"
    }
   ],
   "source": [
    "recode.groupby(['Phenotype', '1:155235878:G:T_G'])['IID'].count()"
   ]
  },
  {
   "cell_type": "markdown",
   "id": "3d928319-5169-4195-af87-63f3de78a5b5",
   "metadata": {},
   "source": [
    "### Summaries of Zygosity by Phenotype and Sex"
   ]
  },
  {
   "cell_type": "code",
   "execution_count": 10,
   "id": "b1eafa04-2d12-439f-aa57-032009e99133",
   "metadata": {},
   "outputs": [
    {
     "data": {
      "text/plain": [
       "Phenotype  Sex   \n",
       "Case       Female     80\n",
       "           Male      224\n",
       "Control    Female     96\n",
       "           Male      189\n",
       "Name: IID, dtype: int64"
      ]
     },
     "execution_count": 10,
     "metadata": {},
     "output_type": "execute_result"
    }
   ],
   "source": [
    "recode.groupby(['Phenotype','Sex'])['IID'].count()"
   ]
  },
  {
   "cell_type": "code",
   "execution_count": 11,
   "id": "1979e709-9dfb-43ef-926b-749a25becfd6",
   "metadata": {},
   "outputs": [
    {
     "data": {
      "text/plain": [
       "Phenotype  1:155235878:G:T_G  Sex   \n",
       "Case       G/G                Female    12\n",
       "                              Male      26\n",
       "           G/T                Female    38\n",
       "                              Male      82\n",
       "           T/T                Female    24\n",
       "                              Male      83\n",
       "Control    G/G                Female     4\n",
       "                              Male      14\n",
       "           G/T                Female    33\n",
       "                              Male      72\n",
       "           T/T                Female    42\n",
       "                              Male      79\n",
       "Name: IID, dtype: int64"
      ]
     },
     "execution_count": 11,
     "metadata": {},
     "output_type": "execute_result"
    }
   ],
   "source": [
    "recode.groupby(['Phenotype', '1:155235878:G:T_G','Sex'])['IID'].count()"
   ]
  },
  {
   "attachments": {},
   "cell_type": "markdown",
   "id": "61a4eda9-0213-4bd6-aaf0-a535b7032f29",
   "metadata": {},
   "source": [
    "# GP2 – AFR (includes public AFR+Nigerian NB)"
   ]
  },
  {
   "cell_type": "markdown",
   "id": "e36b3f6d-ee78-4a77-a713-1210ef7011af",
   "metadata": {},
   "source": [
    "## Pulling out rs3115534 in PLINK"
   ]
  },
  {
   "cell_type": "code",
   "execution_count": null,
   "id": "f1d4ef53-553a-4a62-a608-fc9abbc68fec",
   "metadata": {},
   "outputs": [],
   "source": [
    "%%bash\n",
    "\n",
    "module load plink/1.9\n",
    "\n",
    "plink --bfile ${UPDATED_GP2_v4_AFR} \\\n",
    "--snp chr1:155235878:G:T \\\n",
    "--allow-no-sex \\\n",
    "--recodeA --out ${UPDATED_GP2_v4_AFR}.rs3115534"
   ]
  },
  {
   "cell_type": "markdown",
   "id": "bd3b730e-5195-43ea-8e80-3ed61160e56d",
   "metadata": {},
   "source": [
    "## Processing .raw file in Python"
   ]
  },
  {
   "cell_type": "code",
   "execution_count": 13,
   "id": "65038f1f-b921-4956-8a08-7ec241d49c28",
   "metadata": {},
   "outputs": [],
   "source": [
    "## Read in .raw file\n",
    "recode = pd.read_csv(f\"{UPDATED_GP2_v4_AFR}.rs3115534.raw\", sep=\" \")\n",
    "\n",
    "## Recode some of the columns to make reading summaries easier \n",
    "recode['Phenotype'] = np.where(recode['PHENOTYPE'] == 1, \"Control\", \"Case\")\n",
    "recode['Sex'] = np.where(recode['SEX'] == 1, \"Male\", \"Female\")\n",
    "\n",
    "zygosity =  {0 : 'T/T', \n",
    "             1 : 'G/T', \n",
    "             2 : 'G/G'}\n",
    "\n",
    "recode['1:155235878:G:T_G'] = recode['chr1:155235878:G:T_G'].map(zygosity)"
   ]
  },
  {
   "cell_type": "markdown",
   "id": "87401a75-9602-43f2-8a37-3b8f5b706353",
   "metadata": {},
   "source": [
    "### Summaries of Zygosity by Phenotype "
   ]
  },
  {
   "cell_type": "code",
   "execution_count": 14,
   "id": "5a715e2e-e5d4-45ce-98d7-f40005df5fc4",
   "metadata": {},
   "outputs": [
    {
     "data": {
      "text/plain": [
       "Phenotype\n",
       "Case        711\n",
       "Control    1011\n",
       "Name: IID, dtype: int64"
      ]
     },
     "execution_count": 14,
     "metadata": {},
     "output_type": "execute_result"
    }
   ],
   "source": [
    "recode.groupby(['Phenotype'])['IID'].count()"
   ]
  },
  {
   "cell_type": "code",
   "execution_count": 15,
   "id": "80be31b2-04e9-4e4d-9ce5-24c310c73114",
   "metadata": {},
   "outputs": [
    {
     "data": {
      "text/plain": [
       "Phenotype  1:155235878:G:T_G\n",
       "Case       G/G                   92\n",
       "           G/T                  278\n",
       "           T/T                  317\n",
       "Control    G/G                   31\n",
       "           G/T                  330\n",
       "           T/T                  625\n",
       "Name: IID, dtype: int64"
      ]
     },
     "execution_count": 15,
     "metadata": {},
     "output_type": "execute_result"
    }
   ],
   "source": [
    "recode.groupby(['Phenotype', '1:155235878:G:T_G'])['IID'].count()"
   ]
  },
  {
   "cell_type": "markdown",
   "id": "c9da6337-1d09-489b-a88b-178df79b3a77",
   "metadata": {},
   "source": [
    "### Summaries of Zygosity by Phenotype and Sex"
   ]
  },
  {
   "cell_type": "code",
   "execution_count": 16,
   "id": "81a1969f-f71e-4ed0-b008-38f3f09c8167",
   "metadata": {},
   "outputs": [
    {
     "data": {
      "text/plain": [
       "Phenotype  Sex   \n",
       "Case       Female    206\n",
       "           Male      505\n",
       "Control    Female    448\n",
       "           Male      563\n",
       "Name: IID, dtype: int64"
      ]
     },
     "execution_count": 16,
     "metadata": {},
     "output_type": "execute_result"
    }
   ],
   "source": [
    "recode.groupby(['Phenotype','Sex'])['IID'].count()"
   ]
  },
  {
   "cell_type": "code",
   "execution_count": 17,
   "id": "2507a0cc-b3e8-45a7-a1ba-cd311d138078",
   "metadata": {},
   "outputs": [
    {
     "data": {
      "text/plain": [
       "Phenotype  1:155235878:G:T_G  Sex   \n",
       "Case       G/G                Female     21\n",
       "                              Male       71\n",
       "           G/T                Female     80\n",
       "                              Male      198\n",
       "           T/T                Female     98\n",
       "                              Male      219\n",
       "Control    G/G                Female     12\n",
       "                              Male       19\n",
       "           G/T                Female    133\n",
       "                              Male      197\n",
       "           T/T                Female    292\n",
       "                              Male      333\n",
       "Name: IID, dtype: int64"
      ]
     },
     "execution_count": 17,
     "metadata": {},
     "output_type": "execute_result"
    }
   ],
   "source": [
    "recode.groupby(['Phenotype', '1:155235878:G:T_G','Sex'])['IID'].count()"
   ]
  },
  {
   "attachments": {},
   "cell_type": "markdown",
   "id": "acf8b608-2afe-41d4-beae-a2bb47f9608b",
   "metadata": {},
   "source": [
    "# GP2 - AAC"
   ]
  },
  {
   "cell_type": "markdown",
   "id": "f2756aaf-1759-4812-900e-a765b01e8d8d",
   "metadata": {},
   "source": [
    "## Pulling out rs3115534 in PLINK"
   ]
  },
  {
   "cell_type": "code",
   "execution_count": null,
   "id": "0ca0ef8a-fe1b-43cc-904a-6836e83586b7",
   "metadata": {},
   "outputs": [],
   "source": [
    "%%bash\n",
    "\n",
    "module load plink/1.9\n",
    "\n",
    "plink --bfile ${UPDATED_GP2_v4_AAC} \\\n",
    "--snp chr1:155235878:G:T \\\n",
    "--allow-no-sex \\\n",
    "--recodeA --out ${UPDATED_GP2_v4_AAC}.rs3115534"
   ]
  },
  {
   "cell_type": "markdown",
   "id": "89e4f213-d7e1-4cdb-a0f4-92d449d40194",
   "metadata": {},
   "source": [
    "## Processing .raw file in Python"
   ]
  },
  {
   "cell_type": "code",
   "execution_count": 19,
   "id": "4f593e4e-4947-438f-8c40-3498a70fc729",
   "metadata": {},
   "outputs": [],
   "source": [
    "## Read in .raw file\n",
    "recode = pd.read_csv(f\"{UPDATED_GP2_v4_AAC}.rs3115534.raw\", sep=\" \")\n",
    "\n",
    "## Recode some of the columns to make reading summaries easier \n",
    "recode['Phenotype'] = np.where(recode['PHENOTYPE'] == 1, \"Control\", \"Case\")\n",
    "recode['Sex'] = np.where(recode['SEX'] == 1, \"Male\", \"Female\")\n",
    "\n",
    "zygosity =  {0 : 'T/T', \n",
    "             1 : 'G/T', \n",
    "             2 : 'G/G'}\n",
    "\n",
    "recode['1:155235878:G:T_G'] = recode['chr1:155235878:G:T_G'].map(zygosity)"
   ]
  },
  {
   "cell_type": "markdown",
   "id": "fedb03ca-bda2-4541-b37b-cc865c88a175",
   "metadata": {},
   "source": [
    "### Summaries of Zygosity by Phenotype "
   ]
  },
  {
   "cell_type": "code",
   "execution_count": 20,
   "id": "dff836ed-829a-46d5-a0f0-cb4225b60645",
   "metadata": {},
   "outputs": [
    {
     "data": {
      "text/plain": [
       "Phenotype\n",
       "Case        185\n",
       "Control    1149\n",
       "Name: IID, dtype: int64"
      ]
     },
     "execution_count": 20,
     "metadata": {},
     "output_type": "execute_result"
    }
   ],
   "source": [
    "recode.groupby(['Phenotype'])['IID'].count()"
   ]
  },
  {
   "cell_type": "code",
   "execution_count": 21,
   "id": "76aa0ade-3d88-4571-9f74-a8a2679add9d",
   "metadata": {},
   "outputs": [
    {
     "data": {
      "text/plain": [
       "Phenotype  1:155235878:G:T_G\n",
       "Case       G/G                   11\n",
       "           G/T                   61\n",
       "           T/T                  111\n",
       "Control    G/G                   18\n",
       "           G/T                  274\n",
       "           T/T                  848\n",
       "Name: IID, dtype: int64"
      ]
     },
     "execution_count": 21,
     "metadata": {},
     "output_type": "execute_result"
    }
   ],
   "source": [
    "recode.groupby(['Phenotype', '1:155235878:G:T_G'])['IID'].count()"
   ]
  },
  {
   "cell_type": "markdown",
   "id": "21702633-4877-4a9a-97ad-a335c52a215a",
   "metadata": {},
   "source": [
    "### Summaries of Zygosity by Phenotype and Sex"
   ]
  },
  {
   "cell_type": "code",
   "execution_count": 22,
   "id": "b17912c7-19df-4d5b-b1c2-ec82dcf01da4",
   "metadata": {},
   "outputs": [
    {
     "data": {
      "text/plain": [
       "Phenotype  Sex   \n",
       "Case       Female     80\n",
       "           Male      105\n",
       "Control    Female    714\n",
       "           Male      435\n",
       "Name: IID, dtype: int64"
      ]
     },
     "execution_count": 22,
     "metadata": {},
     "output_type": "execute_result"
    }
   ],
   "source": [
    "recode.groupby(['Phenotype','Sex'])['IID'].count()"
   ]
  },
  {
   "cell_type": "code",
   "execution_count": 23,
   "id": "7875ec0d-010a-4e4d-8c16-20a1a919463a",
   "metadata": {},
   "outputs": [
    {
     "data": {
      "text/plain": [
       "Phenotype  1:155235878:G:T_G  Sex   \n",
       "Case       G/G                Female      6\n",
       "                              Male        5\n",
       "           G/T                Female     22\n",
       "                              Male       39\n",
       "           T/T                Female     52\n",
       "                              Male       59\n",
       "Control    G/G                Female      9\n",
       "                              Male        9\n",
       "           G/T                Female    175\n",
       "                              Male       99\n",
       "           T/T                Female    526\n",
       "                              Male      322\n",
       "Name: IID, dtype: int64"
      ]
     },
     "execution_count": 23,
     "metadata": {},
     "output_type": "execute_result"
    }
   ],
   "source": [
    "recode.groupby(['Phenotype', '1:155235878:G:T_G','Sex'])['IID'].count()"
   ]
  },
  {
   "cell_type": "markdown",
   "id": "f2b28444-9230-4375-ac25-53fd6fbd4790",
   "metadata": {
    "tags": []
   },
   "source": [
    "# Summaries\n",
    "\n",
    "## Adding up all AFR data\n",
    "| AFR            |      |     | Frequencies | Times   |\n",
    "|----------------|------|-----|-------------|---------|\n",
    "| Total cases    | 1015 |     |             |         |\n",
    "| Total controls | 1296 |     |             |         |\n",
    "|                |      |     |             |         |\n",
    "| Total cases    | G/G  | 130 | 0.12808     | 3.38755 |\n",
    "|                | G/T  | 398 | 0.39212     | 1.16824 |\n",
    "|                | T/T  | 424 | 0.41773     |         |\n",
    "| Total controls | G/G  | 49  | 0.03781     |         |\n",
    "|                | G/T  | 435 | 0.33565     |         |\n",
    "|                | T/T  | 746 | 0.57562     | 1.37795 |\n",
    "\n",
    "## Summing up AAC data\n",
    "| AAC (GP2 only) |      |     | Frequencies | Times       |\n",
    "|----------------|------|-----|-------------|-------------|\n",
    "| Total cases    | 185  |     |             |             |\n",
    "| Total controls | 1149 |     |             |             |\n",
    "|                |      |     |             |             |\n",
    "| Total cases    | G/G  | 11  | 0.05946     | 3.795495495 |\n",
    "|                | G/T  | 61  | 0.32973     | 1.382698757 |\n",
    "|                | T/T  | 111 | 0.60000     |             |\n",
    "| Total controls | G/G  | 18  | 0.01567     |             |\n",
    "|                | G/T  | 274 | 0.23847     |             |\n",
    "|                | T/T  | 848 | 0.73803     | 1.23005512  |\n",
    "\n",
    "## Conclusions\n",
    "- G/G is 3.39x more common in AFR cases than controls \n",
    "- G/G is 3.80x more common in AAC cases than controls\n",
    "- G/T is 1.17x more common in AFR cases than controls\n",
    "- G/T is 1.38x more common in AAC cases than controls\n",
    "- T/T is 1.38x more common in AFR controls than cases\n",
    "- T/T is 1.23x more common in AAC controls than cases \n"
   ]
  },
  {
   "cell_type": "code",
   "execution_count": null,
   "id": "d1d2276d-26b1-464c-89d8-bb1d6a1f903c",
   "metadata": {},
   "outputs": [],
   "source": []
  }
 ],
 "metadata": {
  "kernelspec": {
   "display_name": "python/3.9",
   "language": "python",
   "name": "py3.9"
  },
  "language_info": {
   "codemirror_mode": {
    "name": "ipython",
    "version": 3
   },
   "file_extension": ".py",
   "mimetype": "text/x-python",
   "name": "python",
   "nbconvert_exporter": "python",
   "pygments_lexer": "ipython3",
   "version": "3.9.13"
  }
 },
 "nbformat": 4,
 "nbformat_minor": 5
}
