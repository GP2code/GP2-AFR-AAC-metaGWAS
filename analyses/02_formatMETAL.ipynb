{
 "cells": [
  {
   "attachments": {},
   "cell_type": "markdown",
   "id": "b4538a8d-b700-42b7-ad30-565abe18595e",
   "metadata": {
    "tags": []
   },
   "source": [
    "# Formatting Summary Statistics for METAL\n",
    "- **Project:** GP2 AFR-AAC meta-GWAS \n",
    "- **Version:** Python/3.9\n",
    "- **Status:** COMPLETE\n",
    "- **Started:** 22-FEB-2023\n",
    "- **Last Updated:** 22-FEB-2023\n",
    "    - **Update Description:**  Notebook started\n",
    "\n",
    "## Notebook Overview\n",
    "- Format additive summary statistics for meta-GWASes with METAL\n",
    "\n",
    "### CHANGELOG\n",
    "- 22-FEB-2023: Notebook started \n",
    "\n",
    "---\n",
    "# Data Overview \n",
    "\n",
    "| ANCESTRY |     DATASET     | CASES | CONTROLS |  TOTAL  |           ARRAY           |                NOTES                |\n",
    "|:--------:|:---------------:|:-----:|:--------:|:-------------------------:|:---------------------------------------------------------------------------------------------------------------:|:-----------------------------------:|\n",
    "|    AFR   | IPDGC – Nigeria |  304  |    285   |   589   |         NeuroChip         | . | \n",
    "|    AFR   |  GP2  |  711  |   1,011  |  1,722  |        NeuroBooster       | . |\n",
    "|    AAC   |  GP2 |  185  |   1,149  |  1,334  |        NeuroBooster       | . | \n",
    "|    AAC   |     23andMe     |  288  |  193,985 | 194,273 | Omni Express & GSA & 550k |        Just summary statistics       |"
   ]
  },
  {
   "attachments": {},
   "cell_type": "markdown",
   "id": "6e7ae54d-d2e7-4abd-a374-c96063f1adaf",
   "metadata": {},
   "source": [
    "# Getting Started"
   ]
  },
  {
   "cell_type": "markdown",
   "id": "7364d36c-fdfe-4eec-8340-8da8b56958c8",
   "metadata": {},
   "source": [
    "## Importing packages"
   ]
  },
  {
   "cell_type": "code",
   "execution_count": 19,
   "id": "fdad8631-429f-4cc6-a990-913cefa82ec3",
   "metadata": {},
   "outputs": [
    {
     "name": "stdout",
     "output_type": "stream",
     "text": [
      "PACKAGE VERSIONS (22-FEB-2023)\n",
      "\tmatplotlib==3.5.2\n",
      "\tnumpy==1.22.4\n",
      "\tscipy==1.8.1\n",
      "\tpandas==1.4.3\n",
      "\tstatsmodels==0.13.2\n",
      "\tseaborn==0.11.2\n"
     ]
    }
   ],
   "source": [
    "## Import the necessary packages \n",
    "import os\n",
    "import numpy as np\n",
    "import pandas as pd\n",
    "import math\n",
    "import numbers\n",
    "import sys\n",
    "import subprocess\n",
    "import statsmodels.api as sm\n",
    "import scipy\n",
    "from scipy import stats\n",
    "import matplotlib.pyplot as plt\n",
    "import seaborn as sns\n",
    "from IPython.display import display\n",
    "\n",
    "## Print out package versions\n",
    "## Getting packages loaded into this notebook and their versions to allow for reproducibility\n",
    "    # Repurposed code from stackoverflow here: https://stackoverflow.com/questions/40428931/package-for-listing-version-of-packages-used-in-a-jupyter-notebook\n",
    "\n",
    "## Import packages \n",
    "import pkg_resources\n",
    "import types\n",
    "from datetime import date\n",
    "today = date.today()\n",
    "date = today.strftime(\"%d-%b-%Y\").upper()\n",
    "\n",
    "## Define function \n",
    "def get_imports():\n",
    "    for name, val in globals().items():\n",
    "        if isinstance(val, types.ModuleType):\n",
    "            # Split ensures you get root package, not just imported function\n",
    "            name = val.__name__.split(\".\")[0]\n",
    "\n",
    "        elif isinstance(val, type):\n",
    "            name = val.__module__.split(\".\")[0]\n",
    "\n",
    "        # Some packages are weird and have different imported names vs. system/pip names\n",
    "        # Unfortunately, there is no systematic way to get pip names from a package's imported name. You'll have to add exceptions to this list manually!\n",
    "        poorly_named_packages = {\n",
    "            \"PIL\": \"Pillow\",\n",
    "            \"sklearn\": \"scikit-learn\"\n",
    "        }\n",
    "        if name in poorly_named_packages.keys():\n",
    "            name = poorly_named_packages[name]\n",
    "\n",
    "        yield name\n",
    "\n",
    "## Get a list of packages imported \n",
    "imports = list(set(get_imports()))\n",
    "\n",
    "# The only way I found to get the version of the root package from only the name of the package is to cross-check the names of installed packages vs. imported packages\n",
    "requirements = []\n",
    "for m in pkg_resources.working_set:\n",
    "    if m.project_name in imports and m.project_name!=\"pip\":\n",
    "        requirements.append((m.project_name, m.version))\n",
    "\n",
    "## Print out packages and versions \n",
    "print(f\"PACKAGE VERSIONS ({date})\")\n",
    "for r in requirements:\n",
    "    print(\"\\t{}=={}\".format(*r))"
   ]
  },
  {
   "cell_type": "markdown",
   "id": "b087609a-8d3f-4faf-a48e-efa73d3b5ed7",
   "metadata": {},
   "source": [
    "# Define Reformatting Function"
   ]
  },
  {
   "cell_type": "code",
   "execution_count": 20,
   "id": "ff5d7be1-2924-4a0a-be8c-7e08c4344b5a",
   "metadata": {},
   "outputs": [],
   "source": [
    "def format_sumstats_forMETAL_newMarkerIDs(file_path, output_path=\"test\"):\n",
    "    \n",
    "    # Read in data from file, assuming the file has a header\n",
    "    df = pd.read_csv(file_path, sep=\"\\t\", low_memory=False)\n",
    "    \n",
    "    # Add a new column 'beta' which is the natural log of the 'OR' \n",
    "    df['beta'] = df['OR'].apply(np.log)\n",
    "    \n",
    "    # Add a new column 'markerID' which is now just the chr:bp:ref:alt\n",
    "    #df['markerID'] = df['#CHROM'].astype(str) + ':' + df['POS'].astype(str)\n",
    "    df['markerID'] = df['ID']\n",
    "    \n",
    "    # Add new columns 'effect_allele' and 'other_allele'\n",
    "    df['effect_allele'] = df['A1']\n",
    "    df['other_allele'] = np.where(df['A1'] == df['REF'], df['ALT'], df['REF'])\n",
    "    \n",
    "    # Select the columns of interest and write the result to a file\n",
    "    output_df = df[['markerID','effect_allele','other_allele','beta', 'LOG(OR)_SE', 'OBS_CT', 'P']]\n",
    "    output_df.to_csv(f\"{output_path}.UpdatedforMETAL.tab\", sep='\\t', index=False)\n",
    "    print(f\"Saved METAL .tab here: {output_path}.UpdatedforMETAL.tab!\")"
   ]
  },
  {
   "attachments": {},
   "cell_type": "markdown",
   "id": "0c931df3-2c5c-434a-b49b-b91750247336",
   "metadata": {},
   "source": [
    "# Format GWAS summary statistics for METAL \n",
    "\n",
    "- [x] IPDGC – Nigeria – AFR - NC\n",
    "- [x] GP2 release 5 – AFR (public AFR+Nigerian NB)\n",
    "- [x] GP2 release 5 – AAC"
   ]
  },
  {
   "cell_type": "markdown",
   "id": "1720605e-bc3a-4b57-a6f2-da3d59b0bd4a",
   "metadata": {},
   "source": [
    "## IPDGC – Nigeria – AFR - NC"
   ]
  },
  {
   "cell_type": "code",
   "execution_count": null,
   "id": "4d6a1e5c-bd74-4e04-8899-04f5dab8dd4e",
   "metadata": {},
   "outputs": [],
   "source": [
    "file_path = f\"{WORK_DIR}/data/AFR/NIGERIAN-NC/NIGERIAN-NEUROCHIP-AFR-GWAS-MAF005-FEB2023-SUMMARYSTATS.txt\"\n",
    "output_path = f\"{WORK_DIR}/data/AFR/NIGERIAN-NC/NIGERIAN-NEUROCHIP-AFR-GWAS-MAF005-FEB2023\"\n",
    "\n",
    "format_sumstats_forMETAL_newMarkerIDs(file_path, output_path)"
   ]
  },
  {
   "cell_type": "code",
   "execution_count": 16,
   "id": "81af8cab-b7df-4b77-96a9-e5a57f9137a6",
   "metadata": {},
   "outputs": [
    {
     "name": "stdout",
     "output_type": "stream",
     "text": [
      "markerID\teffect_allele\tother_allele\tbeta\tLOG(OR)_SE\tOBS_CT\tP\n",
      "chr1:722408:G:C\tC\tG\t-0.008473801459398026\t0.522089\t98\t0.98705\n",
      "chr1:727242:G:A\tA\tG\t-0.49447830558593686\t0.419001\t158\t0.237945\n",
      "chr1:727717:G:C\tC\tG\t0.8087456094775313\t0.500652\t101\t0.106227\n",
      "chr1:758351:A:G\tG\tA\t-0.3711854279320762\t0.412496\t170\t0.368199\n"
     ]
    }
   ],
   "source": [
    "%%bash\n",
    "\n",
    "head -5 ${WORK_DIR}/data/AFR/NIGERIAN-NC/NIGERIAN-NEUROCHIP-AFR-GWAS-MAF005-FEB2023.UpdatedforMETAL.tab"
   ]
  },
  {
   "cell_type": "markdown",
   "id": "d7fcd919-85e2-4e84-b4aa-b824b7697c02",
   "metadata": {},
   "source": [
    "## GP2 release 4 – AFR (includes public AFR+Nigerian NB)"
   ]
  },
  {
   "cell_type": "code",
   "execution_count": null,
   "id": "e90ff85e-a922-43ce-8f3c-8dac55769439",
   "metadata": {},
   "outputs": [],
   "source": [
    "file_path = f\"{WORK_DIR}/data/AFR/GP2-v5-AFR-wNIGERIAN-NB/GP2-v5-AFR-wNIGERIAN-NB-GWAS-MAF005-FEB2023-SUMMARYSTATS.txt\"\n",
    "output_path = f\"{WORK_DIR}/data/AFR/GP2-v5-AFR-wNIGERIAN-NB/GP2-v5-AFR-wNIGERIAN-NB-GWAS-MAF005-FEB2023\"\n",
    "\n",
    "format_sumstats_forMETAL_newMarkerIDs(file_path, output_path)"
   ]
  },
  {
   "cell_type": "code",
   "execution_count": 15,
   "id": "05b3240a-7866-4967-b41d-90a7b8ec972d",
   "metadata": {},
   "outputs": [
    {
     "name": "stdout",
     "output_type": "stream",
     "text": [
      "markerID\teffect_allele\tother_allele\tbeta\tLOG(OR)_SE\tOBS_CT\tP\n",
      "chr1:722408:G:C\tC\tG\t-0.43674062806670166\t0.182491\t626\t0.0167012\n",
      "chr1:727242:G:A\tA\tG\t-0.36326518336994645\t0.180026\t844\t0.0436073\n",
      "chr1:727717:G:C\tC\tG\t-0.1961049123092906\t0.193128\t575\t0.309909\n",
      "chr1:758351:A:G\tG\tA\t-0.4180565486229886\t0.178605\t917\t0.019249\n"
     ]
    }
   ],
   "source": [
    "%%bash\n",
    "\n",
    "head -5 ${WORK_DIR}/data/AFR/GP2-v5-AFR-wNIGERIAN-NB/GP2-v5-AFR-wNIGERIAN-NB-GWAS-MAF005-FEB2023.UpdatedforMETAL.tab"
   ]
  },
  {
   "cell_type": "markdown",
   "id": "ae660584-5390-4661-a517-636405de4a0d",
   "metadata": {},
   "source": [
    "##  GP2 release 4 – AAC"
   ]
  },
  {
   "cell_type": "code",
   "execution_count": null,
   "id": "69181472-7d61-4307-8a7a-64e8a5747b7d",
   "metadata": {},
   "outputs": [],
   "source": [
    "file_path = f\"{WORK_DIR}/data/AAC/GP2-v5-AAC/GP2-v5-AAC-GWAS-MAF005-FEB2023-SUMMARYSTATS.txt\"\n",
    "output_path = f\"{WORK_DIR}/data/AAC/GP2-v5-AAC/GP2-v5-AAC-GWAS-MAF005-FEB2023\"\n",
    "\n",
    "format_sumstats_forMETAL_newMarkerIDs(file_path, output_path)"
   ]
  },
  {
   "cell_type": "code",
   "execution_count": 14,
   "id": "43f64471-ec0a-4de4-b1de-d94724a72338",
   "metadata": {},
   "outputs": [
    {
     "name": "stdout",
     "output_type": "stream",
     "text": [
      "markerID\teffect_allele\tother_allele\tbeta\tLOG(OR)_SE\tOBS_CT\tP\n",
      "chr1:66861:C:T\tT\tC\t-0.10718551328673326\t0.400371\t580\t0.788919\n",
      "chr1:80346:C:G\tG\tC\t-0.4607854475364722\t0.343949\t391\t0.180346\n",
      "chr1:595259:G:A\tA\tG\t-0.045603197945461305\t0.407711\t611\t0.91094\n",
      "chr1:665098:G:A\tA\tG\t-0.03148241119149835\t0.357\t400\t0.92973\n"
     ]
    }
   ],
   "source": [
    "%%bash\n",
    "\n",
    "head -5 ${WORK_DIR}/data/AAC/GP2-v5-AAC/GP2-v5-AAC-GWAS-MAF005-FEB2023.UpdatedforMETAL.tab"
   ]
  },
  {
   "cell_type": "markdown",
   "id": "124605b0-1c3e-4572-a7ba-eef0a0b28155",
   "metadata": {},
   "source": [
    "## 23andMe Summary Statistics\n",
    "Processed prior"
   ]
  },
  {
   "cell_type": "code",
   "execution_count": 12,
   "id": "b030ee0f-f977-4e1d-9942-d0abc9b87142",
   "metadata": {},
   "outputs": [
    {
     "name": "stdout",
     "output_type": "stream",
     "text": [
      "markerID\teffect_allele\talt_allele\teffect\tstderr\tN\tpvalue\n",
      "chr3:25758669:G:A\tG\tA\t1.58859\t0.397963\t194273\t1.74732e-07\n",
      "chr3:25786115:C:G\tG\tC\t-1.58108\t0.397225\t194273\t1.93941e-07\n",
      "chr3:25761270:C:T\tT\tC\t-1.58117\t0.397615\t194273\t2.01139e-07\n",
      "chr3:25764783:G:C\tG\tC\t1.58066\t0.397534\t194273\t2.02106e-07\n"
     ]
    }
   ],
   "source": [
    "%%bash\n",
    "\n",
    "head -5 ${WORK_DIR}/data/23andMe/AAC_23andMe_MAF0.05.hg38.noindels.newMarkerIDs.tab"
   ]
  },
  {
   "cell_type": "markdown",
   "id": "3a53ef5c-d837-4f89-a0b9-29348226c627",
   "metadata": {},
   "source": [
    "## chr1 EUR release 4"
   ]
  },
  {
   "cell_type": "code",
   "execution_count": null,
   "id": "e16f0dca-93c6-49d8-b472-84b21ef878cc",
   "metadata": {},
   "outputs": [],
   "source": [
    "file_path = f\"{WORK_DIR}/data/other/GP2_v5_EUR_chr1/GP2_v5_EUR_chr1_FEB2023-extractAACAFRhits.txt\"\n",
    "output_path = f\"{WORK_DIR}/data/other/GP2_v5_EUR_chr1/GP2_v5_EUR_chr1_extractAACAFRhits-GWAS-MAF005-FEB2023\"\n",
    "\n",
    "format_sumstats_forMETAL_newMarkerIDs(file_path, output_path)"
   ]
  },
  {
   "cell_type": "code",
   "execution_count": null,
   "id": "0af5d593-c3cd-48af-9a13-b5db503852e7",
   "metadata": {},
   "outputs": [],
   "source": []
  }
 ],
 "metadata": {
  "kernelspec": {
   "display_name": "python/3.9",
   "language": "python",
   "name": "py3.9"
  },
  "language_info": {
   "codemirror_mode": {
    "name": "ipython",
    "version": 3
   },
   "file_extension": ".py",
   "mimetype": "text/x-python",
   "name": "python",
   "nbconvert_exporter": "python",
   "pygments_lexer": "ipython3",
   "version": "3.9.13"
  }
 },
 "nbformat": 4,
 "nbformat_minor": 5
}
