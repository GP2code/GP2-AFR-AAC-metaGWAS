{
 "cells": [
  {
   "attachments": {},
   "cell_type": "markdown",
   "id": "b46185dd-911c-49bb-88b7-c50b72804f78",
   "metadata": {},
   "source": [
    "# Performing Group-Specific GWASes (Risk)\n",
    "- **Project:** GP2 AFR-AAC meta-GWAS \n",
    "- **Version:** Python/3.9\n",
    "- **Last Updated:** 21-FEB-2023\n",
    "    - **Update Description:** Running GWASes (release 4, no indels, age, sex, PCs 1-10 as covariates)\n",
    "\n",
    "## Notebook Overview\n",
    "- Running GWASes per group (no indels, age, sex, PCs 1-10 as covariates)\n",
    "\n",
    "### CHANGELOG\n",
    "- 15-FEB-2023: Notebook started\n",
    "- 21-FEB-2023: Running GWASes (no indels, age, sex, PCs 1-10 as covariates)\n",
    "\n",
    "---\n",
    "# Data Overview \n",
    "\n",
    "| ANCESTRY |     DATASET     | CASES | CONTROLS |  TOTAL  |           ARRAY           |                NOTES                |\n",
    "|:--------:|:---------------:|:-----:|:--------:|:-------------------------:|:---------------------------------------------------------------------------------------------------------------:|:-----------------------------------:|\n",
    "|    AFR   | IPDGC – Nigeria |  304  |    285   |   589   |         NeuroChip         | . | \n",
    "|    AFR   |  GP2  |  711  |   1,011  |  1,722  |        NeuroBooster       | . |\n",
    "|    AAC   |  GP2 |  185  |   1,149  |  1,334  |        NeuroBooster       | . | \n",
    "|    AAC   |     23andMe     |  288  |  193,985 | 194,273 | Omni Express & GSA & 550k |        Just summary statistics       |"
   ]
  },
  {
   "attachments": {},
   "cell_type": "markdown",
   "id": "cf8b972e-c77b-461f-9c9d-deb59c40047a",
   "metadata": {},
   "source": [
    "# Getting Started"
   ]
  },
  {
   "cell_type": "markdown",
   "id": "699a72c5-a3a5-4940-ba56-d10ffcc79a55",
   "metadata": {},
   "source": [
    "## Importing packages"
   ]
  },
  {
   "cell_type": "code",
   "execution_count": 3,
   "id": "f5e26dde-cd0c-4413-994c-1b809f9ff128",
   "metadata": {},
   "outputs": [
    {
     "name": "stdout",
     "output_type": "stream",
     "text": [
      "PACKAGE VERSIONS (21-FEB-2023)\n",
      "\tmatplotlib==3.5.2\n",
      "\tnumpy==1.22.4\n",
      "\tscipy==1.8.1\n",
      "\tpandas==1.4.3\n",
      "\tstatsmodels==0.13.2\n",
      "\tseaborn==0.11.2\n"
     ]
    }
   ],
   "source": [
    "## Import the necessary packages \n",
    "import os\n",
    "import numpy as np\n",
    "import pandas as pd\n",
    "import math\n",
    "import numbers\n",
    "import sys\n",
    "import subprocess\n",
    "import statsmodels.api as sm\n",
    "import scipy\n",
    "from scipy import stats\n",
    "import matplotlib.pyplot as plt\n",
    "import seaborn as sns\n",
    "from IPython.display import display\n",
    "\n",
    "## Print out package versions\n",
    "## Getting packages loaded into this notebook and their versions to allow for reproducibility\n",
    "    # Repurposed code from stackoverflow here: https://stackoverflow.com/questions/40428931/package-for-listing-version-of-packages-used-in-a-jupyter-notebook\n",
    "\n",
    "## Import packages \n",
    "import pkg_resources\n",
    "import types\n",
    "from datetime import date\n",
    "today = date.today()\n",
    "date = today.strftime(\"%d-%b-%Y\").upper()\n",
    "\n",
    "## Define function \n",
    "def get_imports():\n",
    "    for name, val in globals().items():\n",
    "        if isinstance(val, types.ModuleType):\n",
    "            # Split ensures you get root package, not just imported function\n",
    "            name = val.__name__.split(\".\")[0]\n",
    "\n",
    "        elif isinstance(val, type):\n",
    "            name = val.__module__.split(\".\")[0]\n",
    "\n",
    "        # Some packages are weird and have different imported names vs. system/pip names\n",
    "        # Unfortunately, there is no systematic way to get pip names from a package's imported name. You'll have to add exceptions to this list manually!\n",
    "        poorly_named_packages = {\n",
    "            \"PIL\": \"Pillow\",\n",
    "            \"sklearn\": \"scikit-learn\"\n",
    "        }\n",
    "        if name in poorly_named_packages.keys():\n",
    "            name = poorly_named_packages[name]\n",
    "\n",
    "        yield name\n",
    "\n",
    "## Get a list of packages imported \n",
    "imports = list(set(get_imports()))\n",
    "\n",
    "# The only way I found to get the version of the root package from only the name of the package is to cross-check the names of installed packages vs. imported packages\n",
    "requirements = []\n",
    "for m in pkg_resources.working_set:\n",
    "    if m.project_name in imports and m.project_name!=\"pip\":\n",
    "        requirements.append((m.project_name, m.version))\n",
    "\n",
    "## Print out packages and versions \n",
    "print(f\"PACKAGE VERSIONS ({date})\")\n",
    "for r in requirements:\n",
    "    print(\"\\t{}=={}\".format(*r))"
   ]
  },
  {
   "attachments": {},
   "cell_type": "markdown",
   "id": "47e9c872-d693-4ff8-a6b4-01b5051eb4f9",
   "metadata": {},
   "source": [
    "# Run GWASes\n",
    "\n",
    "- [x] IPDGC – Nigeria – AFR - NC\n",
    "- [x] GP2 release 5 – AFR (with Nigerian NB)\n",
    "- [x] GP2 release 5 – AAC"
   ]
  },
  {
   "cell_type": "markdown",
   "id": "81316519-1427-40e7-85be-9d00cd489d83",
   "metadata": {},
   "source": [
    "## IPDGC – Nigeria – AFR - NC"
   ]
  },
  {
   "cell_type": "code",
   "execution_count": 13,
   "id": "2d17d9e4-8459-473c-a584-6d8d26f5dd81",
   "metadata": {},
   "outputs": [],
   "source": [
    "%%bash\n",
    "\n",
    "plink2 \\\n",
    "--bfile ${NG_AFR_NEUROCHIP} \\\n",
    "--maf 0.05 \\\n",
    "--logistic \\\n",
    "--ci 0.95 \\\n",
    "--snps-only \\\n",
    "--covar ${WORK_DIR}/data/AFR/NIGERIAN-NC/NIGERIAN-NEUROCHIP-AFR-covariate-wAGE-FEB2023.txt \\\n",
    "--covar-name AGE_ANALYSIS,SEX,PC1,PC2,PC3,PC4,PC5,PC6,PC7,PC8,PC9,PC10 \\\n",
    "--covar-variance-standardize \\\n",
    "--out ${WORK_DIR}/data/AFR/NIGERIAN-NC/NIGERIAN-NEUROCHIP-AFR-GWAS-MAF005-FEB2023"
   ]
  },
  {
   "cell_type": "code",
   "execution_count": 19,
   "id": "008f44aa-1953-4790-9e6b-318df189fb25",
   "metadata": {},
   "outputs": [],
   "source": [
    "%%bash \n",
    "cd ${WORK_DIR}/data/AFR/NIGERIAN-NC\n",
    "\n",
    "head -1 NIGERIAN-NEUROCHIP-AFR-GWAS-MAF005-FEB2023.PHENO1.glm.logistic.hybrid > NIGERIAN-NEUROCHIP-AFR-GWAS-MAF005-FEB2023-SUMMARYSTATS.txt\n",
    "grep \"ADD\" NIGERIAN-NEUROCHIP-AFR-GWAS-MAF005-FEB2023.PHENO1.glm.logistic.hybrid >> NIGERIAN-NEUROCHIP-AFR-GWAS-MAF005-FEB2023-SUMMARYSTATS.txt\n",
    "\n",
    "awk '{print $1, $2, $3, $15}' NIGERIAN-NEUROCHIP-AFR-GWAS-MAF005-FEB2023-SUMMARYSTATS.txt > NIGERIAN-NEUROCHIP-AFR-GWAS-MAF005-FEB2023-SUMMARYSTATS-FILTERED.txt\n",
    "cat NIGERIAN-NEUROCHIP-AFR-GWAS-MAF005-FEB2023-SUMMARYSTATS-FILTERED.txt | awk '$4 <= 0.00000005' > NIGERIAN-NEUROCHIP-AFR-GWAS-MAF005-FEB2023-HITS.txt #5E-8\n",
    "head NIGERIAN-NEUROCHIP-AFR-GWAS-MAF005-FEB2023-HITS.txt\n",
    "\n",
    "## no hits "
   ]
  },
  {
   "cell_type": "markdown",
   "id": "bd917993-1e79-43eb-965a-bfe87901ebd4",
   "metadata": {},
   "source": [
    "<div class=\"alert alert-block alert-info\">\n",
    "<b>Results for IPDGC - Nigerian - NeuroChip:</b> \n",
    "<ul>\n",
    "    <li>No genome-wide hits </li>\n",
    "</ul>\n",
    "</div>"
   ]
  },
  {
   "attachments": {},
   "cell_type": "markdown",
   "id": "5a548a6d-609b-4815-8fa6-a5c4319ad5f2",
   "metadata": {},
   "source": [
    "## GP2 release 5 – AFR (includes Nigerian NB)\n",
    "\n",
    "### Notes\n",
    "- Study covariate not included as some studies only contribute one phenotype"
   ]
  },
  {
   "cell_type": "code",
   "execution_count": 15,
   "id": "a4ddf69e-5394-4350-9475-9a35baffd05f",
   "metadata": {},
   "outputs": [],
   "source": [
    "%%bash\n",
    "\n",
    "plink2 \\\n",
    "--bfile ${UPDATED_GP2_v5_AFR} \\\n",
    "--maf 0.05 \\\n",
    "--logistic \\\n",
    "--ci 0.95 \\\n",
    "--covar ${WORK_DIR}/data/masterfile_updated_GP2_v5_covariateFile_wAGE_FEB2023.txt \\\n",
    "--covar-name AGE_ANALYSIS,SEX,PC1,PC2,PC3,PC4,PC5,PC6,PC7,PC8,PC9,PC10 \\\n",
    "--snps-only \\\n",
    "--require-pheno PHENO1 \\\n",
    "--covar-variance-standardize \\\n",
    "--out ${WORK_DIR}/data/AFR/GP2-v5-AFR-wNIGERIAN-NB/GP2-v5-AFR-wNIGERIAN-NB-GWAS-MAF005-FEB2023"
   ]
  },
  {
   "cell_type": "code",
   "execution_count": 20,
   "id": "b042414c-65f3-4914-952d-ee6a17abdac3",
   "metadata": {},
   "outputs": [
    {
     "name": "stdout",
     "output_type": "stream",
     "text": [
      "1 155235878 chr1:155235878:G:T 1.00617e-08\n"
     ]
    }
   ],
   "source": [
    "%%bash \n",
    "cd ${WORK_DIR}/data/AFR/GP2-v5-AFR-wNIGERIAN-NB/\n",
    "\n",
    "head -1 GP2-v5-AFR-wNIGERIAN-NB-GWAS-MAF005-FEB2023.PHENO1.glm.logistic.hybrid > GP2-v5-AFR-wNIGERIAN-NB-GWAS-MAF005-FEB2023-SUMMARYSTATS.txt\n",
    "grep \"ADD\" GP2-v5-AFR-wNIGERIAN-NB-GWAS-MAF005-FEB2023.PHENO1.glm.logistic.hybrid >> GP2-v5-AFR-wNIGERIAN-NB-GWAS-MAF005-FEB2023-SUMMARYSTATS.txt\n",
    "\n",
    "awk '{print $1, $2, $3, $15}' GP2-v5-AFR-wNIGERIAN-NB-GWAS-MAF005-FEB2023-SUMMARYSTATS.txt > GP2-v5-AFR-wNIGERIAN-NB-GWAS-MAF005-FEB2023-SUMMARYSTATS-FILTERED.txt\n",
    "cat GP2-v5-AFR-wNIGERIAN-NB-GWAS-MAF005-FEB2023-SUMMARYSTATS-FILTERED.txt | awk '$4 <= 0.00000005' > GP2-v5-AFR-wNIGERIAN-NB-GWAS-MAF005-FEB2023-HITS.txt #5E-8\n",
    "cat GP2-v5-AFR-wNIGERIAN-NB-GWAS-MAF005-FEB2023-HITS.txt"
   ]
  },
  {
   "attachments": {},
   "cell_type": "markdown",
   "id": "198826d2-baef-4a5a-bf92-52f0d3afaa3a",
   "metadata": {},
   "source": [
    "<div class=\"alert alert-block alert-info\">\n",
    "<b>Results for GP2 AFR - Release v5:</b> \n",
    "<ul>\n",
    "    <li>1 genome-wide significant hit</li>\n",
    "    <li>chr1:155235878:G:T (hg38; P=1.00617E-08)</li>\n",
    "</ul>\n",
    "</div>"
   ]
  },
  {
   "attachments": {},
   "cell_type": "markdown",
   "id": "d551dba1-a18b-479e-a881-5e607661d821",
   "metadata": {},
   "source": [
    "---\n",
    "## GP2 release 5 – AAC "
   ]
  },
  {
   "cell_type": "code",
   "execution_count": 26,
   "id": "87164a93-12eb-4cad-aa64-274918a7bd94",
   "metadata": {},
   "outputs": [],
   "source": [
    "%%bash\n",
    "\n",
    "plink2 \\\n",
    "--bfile ${UPDATED_GP2_v5_AAC} \\\n",
    "--maf 0.05 \\\n",
    "--logistic \\\n",
    "--ci 0.95 \\\n",
    "--covar ${WORK_DIR}/data/masterfile_updated_GP2_v5_covariateFile_wAGE_FEB2023.txt \\\n",
    "--covar-name AGE_ANALYSIS,SEX,PC1,PC2,PC3,PC4,PC5,PC6,PC7,PC8,PC9,PC10 \\\n",
    "--snps-only \\\n",
    "--require-pheno PHENO1 \\\n",
    "--covar-variance-standardize \\\n",
    "--out ${WORK_DIR}/data/AAC/GP2-v5-AAC/GP2-v5-AAC-GWAS-MAF005-FEB2023"
   ]
  },
  {
   "cell_type": "code",
   "execution_count": 29,
   "id": "8d5d04bd-463f-490d-8b82-c0021c7e6382",
   "metadata": {},
   "outputs": [],
   "source": [
    "%%bash \n",
    "cd ${WORK_DIR}/data/AAC/GP2-v5-AAC/\n",
    "\n",
    "head -1 GP2-v5-AAC-GWAS-MAF005-FEB2023.PHENO1.glm.logistic.hybrid > GP2-v5-AAC-GWAS-MAF005-FEB2023-SUMMARYSTATS.txt\n",
    "grep \"ADD\" GP2-v5-AAC-GWAS-MAF005-FEB2023.PHENO1.glm.logistic.hybrid >> GP2-v5-AAC-GWAS-MAF005-FEB2023-SUMMARYSTATS.txt\n",
    "\n",
    "awk '{print $1, $2, $3, $15}' GP2-v5-AAC-GWAS-MAF005-FEB2023-SUMMARYSTATS.txt > GP2-v5-AAC-GWAS-MAF005-FEB2023-SUMMARYSTATS-FILTERED.txt\n",
    "cat GP2-v5-AAC-GWAS-MAF005-FEB2023-SUMMARYSTATS-FILTERED.txt | awk '$4 <= 0.00000005' > GP2-v5-AAC-GWAS-MAF005-FEB2023-HITS.txt #5E-8\n",
    "head GP2-v5-AAC-GWAS-MAF005-FEB2023-HITS.txt"
   ]
  },
  {
   "attachments": {},
   "cell_type": "markdown",
   "id": "95ade57d-87c7-4af8-a84d-5561bff611fd",
   "metadata": {},
   "source": [
    "<div class=\"alert alert-block alert-info\">\n",
    "<b>Results for GP2 AAC - Release v5:</b> \n",
    "<ul>\n",
    "    <li>No genome-wide significant hits</li>\n",
    "</ul>\n",
    "</div>"
   ]
  },
  {
   "cell_type": "markdown",
   "id": "29398bd0-754e-44cf-badb-b03b211058f4",
   "metadata": {},
   "source": [
    "## 23andMe Summary Statistics "
   ]
  },
  {
   "cell_type": "code",
   "execution_count": 14,
   "id": "ab6adc43-09da-41ac-b22b-a2e1d45e3c1f",
   "metadata": {},
   "outputs": [
    {
     "name": "stdout",
     "output_type": "stream",
     "text": [
      "markerID\teffect_allele\talt_allele\teffect\tstderr\tN\tpvalue\n"
     ]
    }
   ],
   "source": [
    "%%bash\n",
    "\n",
    "cd ${WORK_DIR}/data/23andMe\n",
    "\n",
    "head -1 AAC_23andMe_MAF0.05.hg38.noindels.newMarkerIDs.tab\n",
    "cat AAC_23andMe_MAF0.05.hg38.noindels.newMarkerIDs.tab | awk '$7 <= 0.00000005' #5E-8"
   ]
  },
  {
   "cell_type": "markdown",
   "id": "8961aa6c-4f91-4af4-9c27-14a22a3abd3c",
   "metadata": {},
   "source": [
    "<div class=\"alert alert-block alert-info\">\n",
    "<b>Results for 23andMe AAC Summary Stats:</b> \n",
    "<ul>\n",
    "    <li>No genome-wide significant hits</li>\n",
    "</ul>\n",
    "</div>"
   ]
  },
  {
   "cell_type": "markdown",
   "id": "70214cea-1fae-484b-a9c5-3c26037b4342",
   "metadata": {},
   "source": [
    "--- \n",
    "# chr1 EUR - GP2 Release 4"
   ]
  },
  {
   "cell_type": "code",
   "execution_count": 30,
   "id": "da14298a-cbdf-473a-b195-e0cc34ef5905",
   "metadata": {},
   "outputs": [],
   "source": [
    "%%bash\n",
    "\n",
    "plink2 \\\n",
    "--bfile ${WORK_DIR}/data/other/GP2_v5_EUR_chr1/chr1_EUR_release4 \\\n",
    "--maf 0.05 \\\n",
    "--logistic \\\n",
    "--ci 0.95 \\\n",
    "--covar ${WORK_DIR}/data/other/GP2_v5_EUR_chr1/GP2_v5_EUR_updated_covariateFile_FEB2023.txt \\\n",
    "--covar-name SEX,PC1,PC2,PC3,PC4,PC5,PC6,PC7,PC8,PC9,PC10 \\\n",
    "--snps-only \\\n",
    "--out ${WORK_DIR}/data/other/GP2_v5_EUR_chr1/GP2_v5_EUR_chr1_FEB2023"
   ]
  },
  {
   "cell_type": "code",
   "execution_count": 32,
   "id": "4fb743ea-b26c-47f9-a35b-7952e64ea8fa",
   "metadata": {},
   "outputs": [],
   "source": [
    "%%bash \n",
    "cd ${WORK_DIR}/data/other/GP2_v5_EUR_chr1\n",
    "\n",
    "head -1 GP2_v5_EUR_chr1_FEB2023.PHENO1.glm.logistic.hybrid > GP2_v5_EUR_chr1_FEB2023-SUMMARYSTATS.txt\n",
    "grep \"ADD\" GP2_v5_EUR_chr1_FEB2023.PHENO1.glm.logistic.hybrid >> GP2_v5_EUR_chr1_FEB2023-SUMMARYSTATS.txt\n",
    "\n",
    "awk '{print $1, $2, $3, $15}' GP2_v5_EUR_chr1_FEB2023-SUMMARYSTATS.txt > GP2_v5_EUR_chr1_FEB2023-SUMMARYSTATS-FILTERED.txt\n",
    "cat GP2_v5_EUR_chr1_FEB2023-SUMMARYSTATS-FILTERED.txt | awk '$4 <= 0.00000005' > GP2_v5_EUR_chr1_FEB2023-HITS.txt #5E-8\n",
    "# no hits"
   ]
  },
  {
   "cell_type": "code",
   "execution_count": null,
   "id": "82da989f-76ac-4144-b8b5-436cef950028",
   "metadata": {},
   "outputs": [],
   "source": [
    "%%bash \n",
    "cd ${WORK_DIR}/data/other/GP2_v5_EUR_chr1\n",
    "\n",
    "## Grep out the AFR-AAC SNPs\n",
    "echo \"After imputation, before GWAS\"\n",
    "grep -E -f ${WORK_DIR}/data/AFR-AAC-META/genomewide-hits.txt ${WORK_DIR}/data/other/GP2_v5_EUR_chr1/chr1_EUR_release4.bim | wc -l\n",
    "echo \"\"\n",
    "\n",
    "echo \"After MAF>5% GWAS\"\n",
    "head -1 GP2_v5_EUR_chr1_FEB2023-SUMMARYSTATS.txt > ${WORK_DIR}/data/other/GP2_v5_EUR_chr1/GP2_v5_EUR_chr1_FEB2023-extractAACAFRhits.txt\n",
    "grep -E -f ${WORK_DIR}/data/AFR-AAC-META/genomewide-hits.txt GP2_v5_EUR_chr1_FEB2023-SUMMARYSTATS.txt >> ${WORK_DIR}/data/other/GP2_v5_EUR_chr1/GP2_v5_EUR_chr1_FEB2023-extractAACAFRhits.txt\n",
    "wc -l ${WORK_DIR}/data/other/GP2_v5_EUR_chr1/GP2_v5_EUR_chr1_FEB2023-extractAACAFRhits.txt\n",
    "\n",
    "# After imputation, before GWAS\n",
    "# 17\n",
    "\n",
    "# After MAF>5% GWAS\n",
    "# 16 "
   ]
  }
 ],
 "metadata": {
  "kernelspec": {
   "display_name": "python/3.9",
   "language": "python",
   "name": "py3.9"
  },
  "language_info": {
   "codemirror_mode": {
    "name": "ipython",
    "version": 3
   },
   "file_extension": ".py",
   "mimetype": "text/x-python",
   "name": "python",
   "nbconvert_exporter": "python",
   "pygments_lexer": "ipython3",
   "version": "3.9.15"
  }
 },
 "nbformat": 4,
 "nbformat_minor": 5
}
