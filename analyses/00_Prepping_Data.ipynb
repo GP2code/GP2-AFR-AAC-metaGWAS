{
 "cells": [
  {
   "attachments": {},
   "cell_type": "markdown",
   "id": "1f7c5f3e-c343-453d-a443-bc99c223b588",
   "metadata": {},
   "source": [
    "# Prepping Data per Group\n",
    "- **Project:** GP2 AFR-AAC meta-GWAS \n",
    "- **Version:** Python/3.9\n",
    "- **Status:** COMPLETE\n",
    "- **Started:** 15-FEB-2023\n",
    "- **Last Updated:** 21-FEB-2023\n",
    "    - **Update Description:** Adding age information + distribution plot \n",
    "\n",
    "## Notebook Overview\n",
    "- Combining the PLINK files \n",
    "- Relatedness pruning removing any 2nd degree relatives and closer\n",
    "- Making PCs \n",
    "- Cleaning covariate file\n",
    "- Making final PLINK files without related individuals\n",
    "- Adding age information\n",
    "\n",
    "### CHANGELOG\n",
    "- 15-FEB-2023: Notebook started\n",
    "- 21-FEB-2023: Adding age information + distribution plot \n",
    "\n",
    "\n",
    "---\n",
    "# Data Overview \n",
    "\n",
    "| ANCESTRY |     DATASET     | CASES | CONTROLS |  TOTAL  |           ARRAY           |                NOTES                |\n",
    "|:--------:|:---------------:|:-----:|:--------:|:-------------------------:|:---------------------------------------------------------------------------------------------------------------:|:-----------------------------------:|\n",
    "|    AFR   | IPDGC – Nigeria |  304  |    285   |   589   |         NeuroChip         | . | \n",
    "|    AFR   |  GP2  |  711  |   1,011  |  1,722  |        NeuroBooster       | . |\n",
    "|    AAC   |  GP2 |  185  |   1,149  |  1,334  |        NeuroBooster       | . | \n",
    "|    AAC   |     23andMe     |  288  |  193,985 | 194,273 | Omni Express & GSA & 550k |        Just summary statistics       |"
   ]
  },
  {
   "cell_type": "markdown",
   "id": "73798c2d-5082-4533-8dd2-d457aa0b1cf3",
   "metadata": {},
   "source": [
    "# Getting Started\n"
   ]
  },
  {
   "cell_type": "markdown",
   "id": "b05433f7-4c30-4f64-bee3-86b7d4155101",
   "metadata": {},
   "source": [
    "## Importing packages"
   ]
  },
  {
   "cell_type": "code",
   "execution_count": 3,
   "id": "371ff1e3-4e1d-4ecf-b755-31d99647fc52",
   "metadata": {},
   "outputs": [
    {
     "name": "stdout",
     "output_type": "stream",
     "text": [
      "PACKAGE VERSIONS (07-APR-2023)\n",
      "\tmatplotlib==3.5.3\n",
      "\tnumpy==1.23.5\n",
      "\tpandas==1.5.3\n",
      "\tscipy==1.8.1\n",
      "\tseaborn==0.12.2\n",
      "\tstatsmodels==0.13.5\n"
     ]
    }
   ],
   "source": [
    "## Import the necessary packages \n",
    "import os\n",
    "import numpy as np\n",
    "import pandas as pd\n",
    "import math\n",
    "import numbers\n",
    "import sys\n",
    "import subprocess\n",
    "import statsmodels.api as sm\n",
    "import scipy\n",
    "from scipy import stats\n",
    "import matplotlib.pyplot as plt\n",
    "import seaborn as sns\n",
    "from IPython.display import display\n",
    "\n",
    "## Print out package versions\n",
    "## Getting packages loaded into this notebook and their versions to allow for reproducibility\n",
    "    # Repurposed code from stackoverflow here: https://stackoverflow.com/questions/40428931/package-for-listing-version-of-packages-used-in-a-jupyter-notebook\n",
    "\n",
    "## Import packages \n",
    "import pkg_resources\n",
    "import types\n",
    "from datetime import date\n",
    "today = date.today()\n",
    "date = today.strftime(\"%d-%b-%Y\").upper()\n",
    "\n",
    "## Define function \n",
    "def get_imports():\n",
    "    for name, val in globals().items():\n",
    "        if isinstance(val, types.ModuleType):\n",
    "            # Split ensures you get root package, not just imported function\n",
    "            name = val.__name__.split(\".\")[0]\n",
    "\n",
    "        elif isinstance(val, type):\n",
    "            name = val.__module__.split(\".\")[0]\n",
    "\n",
    "        # Some packages are weird and have different imported names vs. system/pip names\n",
    "        # Unfortunately, there is no systematic way to get pip names from a package's imported name. You'll have to add exceptions to this list manually!\n",
    "        poorly_named_packages = {\n",
    "            \"PIL\": \"Pillow\",\n",
    "            \"sklearn\": \"scikit-learn\"\n",
    "        }\n",
    "        if name in poorly_named_packages.keys():\n",
    "            name = poorly_named_packages[name]\n",
    "\n",
    "        yield name\n",
    "\n",
    "## Get a list of packages imported \n",
    "imports = list(set(get_imports()))\n",
    "\n",
    "# The only way I found to get the version of the root package from only the name of the package is to cross-check the names of installed packages vs. imported packages\n",
    "requirements = []\n",
    "for m in pkg_resources.working_set:\n",
    "    if m.project_name in imports and m.project_name!=\"pip\":\n",
    "        requirements.append((m.project_name, m.version))\n",
    "\n",
    "## Print out packages and versions \n",
    "print(f\"PACKAGE VERSIONS ({date})\")\n",
    "for r in requirements:\n",
    "    print(\"\\t{}=={}\".format(*r))"
   ]
  },
  {
   "cell_type": "markdown",
   "id": "07ffcde3-ad9b-449c-83d4-782f04c29268",
   "metadata": {},
   "source": [
    "# Make combined PLINK files"
   ]
  },
  {
   "cell_type": "markdown",
   "id": "c39cf7eb-17c2-4f6c-830e-430d6c6cdff5",
   "metadata": {},
   "source": [
    "### IPDGC – Nigeria – AFR – NC"
   ]
  },
  {
   "cell_type": "raw",
   "id": "6ba2e65e-518a-40ce-98fc-a981e02cd04e",
   "metadata": {},
   "source": [
    "%%bash\n",
    "\n",
    "plink2 \\\n",
    "--bfile neuroarray_NG_allchr_PHENO_SEX \\\n",
    "--remove neuroarray_OG_samples_to_remove_02NOV2022.tsv \\\n",
    "--make-bed --out NIGERIAN-NEUROCHIP-AFR"
   ]
  },
  {
   "cell_type": "markdown",
   "id": "c495de1c-58ee-4ade-af93-0bf5b2440f30",
   "metadata": {},
   "source": [
    "### GP2 release 4 – AFR"
   ]
  },
  {
   "cell_type": "raw",
   "id": "d6b4ff10-157a-4015-892d-50f1a8c2cf82",
   "metadata": {},
   "source": [
    "%%bash\n",
    "\n",
    "plink2 \\\n",
    "--pfile chr1_AFR_release4 \\\n",
    "--pmerge-list pmerge-list.txt \\\n",
    "--memory 100000 \\\n",
    "--make-bed --out GP2-v4-AFR-wNIGERIAN-NB-noSEXPHENO\n",
    "\n",
    "\n",
    "plink --bfile GP2-v4-AFR-wNIGERIAN-NB-noSEXPHENO \\\n",
    "--pheno GP2_v4_updatePHENO.txt \\\n",
    "--update-sex GP2_v4_updateSEX.txt \\\n",
    "--make-bed --out GP2-v4-AFR-wNIGERIAN-NB-preRELATED"
   ]
  },
  {
   "cell_type": "markdown",
   "id": "d98f82bf-ef0f-4b48-acb6-fb320a24a669",
   "metadata": {},
   "source": [
    "### GP2 release 4 – AAC"
   ]
  },
  {
   "cell_type": "raw",
   "id": "d1df060e-c2e1-4fd9-8522-69eac26213b8",
   "metadata": {},
   "source": [
    "%%bash\n",
    "\n",
    "plink2 \\\n",
    "--pfile chr1_AAC_release4 \\\n",
    "--pmerge-list pmerge-list.txt \\\n",
    "--memory 100000 \\\n",
    "--make-bed --out GP2-v4-AAC-noSEXPHENO\n",
    "\n",
    "\n",
    "plink --bfile GP2-v4-AAC-noSEXPHENO \\\n",
    "--pheno GP2_v4_updatePHENO.txt \\\n",
    "--update-sex GP2_v4_updateSEX.txt \\\n",
    "--make-bed --out GP2-v4-AAC-preRELATED"
   ]
  },
  {
   "cell_type": "markdown",
   "id": "396ce666-c41d-4bc3-9883-ae1e6e65ed1d",
   "metadata": {},
   "source": [
    "## Relatedness Checks with KING in PLINK2 on raw genotypes \n",
    "\n",
    "https://groups.google.com/g/plink2-users/c/938B07i8AXQ"
   ]
  },
  {
   "cell_type": "markdown",
   "id": "755e5423-c6c0-4e92-843f-ff6fe763dd69",
   "metadata": {},
   "source": [
    "### IPDGC – Nigeria – AFR – NC\n",
    "\n",
    "Done previously and related samples have been removed"
   ]
  },
  {
   "cell_type": "raw",
   "id": "bad86d16-f090-43a9-953c-819417aa7783",
   "metadata": {},
   "source": [
    "%%bash \n",
    "\n",
    "plink2 --bfile ${WORK_DIR}/data/AFR/NIGERIAN-NC/NIGERIAN-NEUROCHIP-AFR \\\n",
    "--king-cutoff 0.088 \\\n",
    "--make-bed --out ${WORK_DIR}/data/AFR/NIGERIAN-NC/NIGERIAN-NEUROCHIP-AFR-noRelateds\n",
    "\n",
    "## No related individuals found"
   ]
  },
  {
   "cell_type": "markdown",
   "id": "f6c35416-8f35-4460-b3b7-46ab47efaa42",
   "metadata": {},
   "source": [
    "### GP2 release 4 – AFR"
   ]
  },
  {
   "cell_type": "code",
   "execution_count": null,
   "id": "c3e25e21-09ec-485e-89aa-a66f87cecc1f",
   "metadata": {},
   "outputs": [],
   "source": [
    "%%bash \n",
    "\n",
    "\n",
    "plink2 --pfile ${WORK_DIR}/data/AFR/GP2-v4-AFR-wNIGERIAN-NB/raw_genotypes/RAW-GP2-v4-AFR-MAF-HWE \\\n",
    "--king-cutoff 0.088 \\\n",
    "--make-bed --out ${WORK_DIR}/data/AFR/GP2-v4-AFR-wNIGERIAN-NB/raw_genotypes/RAW-GP2-v4-AFR-MAF-HWE-noRelateds"
   ]
  },
  {
   "cell_type": "code",
   "execution_count": null,
   "id": "ee9873b2-4ad2-43b7-a5e1-2cc2bc5353f7",
   "metadata": {},
   "outputs": [],
   "source": [
    "%%bash\n",
    "\n",
    "wc -l ${WORK_DIR}/data/AFR/GP2-v4-AFR-wNIGERIAN-NB/raw_genotypes/RAW-GP2-v4-AFR-MAF-HWE-noRelateds.king.cutoff.out.id \n",
    "## 46 individuals removed "
   ]
  },
  {
   "cell_type": "markdown",
   "id": "ebd8b281-57d5-4137-9b4a-912ce49e3aa7",
   "metadata": {},
   "source": [
    "### GP2 release 4 – AAC"
   ]
  },
  {
   "cell_type": "code",
   "execution_count": null,
   "id": "96fb6849-fde0-4343-adf1-9d391d1337ce",
   "metadata": {},
   "outputs": [],
   "source": [
    "%%bash \n",
    "\n",
    "\n",
    "plink2 --pfile ${WORK_DIR}/data/AAC/GP2-v4-AAC/raw_genotypes/RAW-GP2-v4-AAC-MAF-HWE \\\n",
    "--king-cutoff 0.088 \\\n",
    "--make-bed --out ${WORK_DIR}/data/AAC/GP2-v4-AAC/raw_genotypes/RAW-GP2-v4-AAC-MAF-HWE-noRelateds"
   ]
  },
  {
   "cell_type": "code",
   "execution_count": 73,
   "id": "96cad71e-7b4a-40cc-8003-743ec0b83e30",
   "metadata": {},
   "outputs": [
    {
     "name": "stdout",
     "output_type": "stream",
     "text": [
      "14 /data/GP2/projects/2023_02_MBM_AFR_AAC_GWAS/data/AAC/GP2-v4-AAC/raw_genotypes/RAW-GP2-v4-AAC-MAF-HWE-noRelateds.king.cutoff.out.id\n"
     ]
    }
   ],
   "source": [
    "%%bash\n",
    "\n",
    "wc -l ${WORK_DIR}/data/AAC/GP2-v4-AAC/raw_genotypes/RAW-GP2-v4-AAC-MAF-HWE-noRelateds.king.cutoff.out.id\n",
    "## 13 individuals removed "
   ]
  },
  {
   "cell_type": "markdown",
   "id": "652a0096-abbc-4535-9276-b6b5cae0d7a9",
   "metadata": {},
   "source": [
    "## Make master sampleID list of those to keep"
   ]
  },
  {
   "cell_type": "code",
   "execution_count": 74,
   "id": "fbfe2bf3-e312-4127-8079-d98e4d2029d8",
   "metadata": {},
   "outputs": [],
   "source": [
    "%%bash\n",
    "cut -f 1,2 ${WORK_DIR}/data/AFR/GP2-v4-AFR-wNIGERIAN-NB/raw_genotypes/RAW-GP2-v4-AFR-MAF-HWE-noRelateds.fam > ${WORK_DIR}/data/sampleIDs_toKeep_noRelateds.txt\n",
    "cut -f 1,2 ${WORK_DIR}/data/AAC/GP2-v4-AAC/raw_genotypes/RAW-GP2-v4-AAC-MAF-HWE-noRelateds.fam >> ${WORK_DIR}/data/sampleIDs_toKeep_noRelateds.txt"
   ]
  },
  {
   "cell_type": "markdown",
   "id": "4682e396-e223-4ed5-8902-0975b04ee839",
   "metadata": {},
   "source": [
    "# Make Clean Covariate File\n",
    "These are for the GP2 v4 AAC and AFR samples QC'd by Kristin using GenoTools and TOPMed "
   ]
  },
  {
   "cell_type": "code",
   "execution_count": null,
   "id": "b63e823e-b2f0-428c-a8a3-a32acd831d6b",
   "metadata": {},
   "outputs": [],
   "source": [
    "## Read in the clinical data\n",
    "all_samples = pd.read_csv(f\"nigerian_AAC_AFR_release4.samples.csv\")\n",
    "all_samples['FID'] = 0 \n",
    "\n",
    "## Keep samples that only have PD or control diagnoses \n",
    "all_samples_pheno = all_samples[all_samples['pheno'] >= 1]\n",
    "\n",
    "all_samples_pheno.columns = ['IID', 'STUDY', 'PHENOTYPE', 'SEX', \n",
    "                             'RACE', 'PRUNED', 'LABEL', 'PRUNED_REASON', \n",
    "                             'STUDY_ARM', 'PHENO', 'AGE', 'AAO', 'AADx', 'AAD', 'FID']\n"
   ]
  },
  {
   "cell_type": "code",
   "execution_count": 197,
   "id": "d790d370-e793-463f-8824-eed666c728a5",
   "metadata": {},
   "outputs": [],
   "source": [
    "## Read in the PCs\n",
    "pc_qc = pd.read_csv(f\"{WORK_DIR}/data/GP2/nigerian_AAC_AFR_release4.pcs.csv\", usecols=['IID', 'PC1', 'PC2', 'PC3', 'PC4', 'PC5', 'PC6', 'PC7', 'PC8', 'PC9', 'PC10'])\n",
    "\n",
    "## Merge PCs and clinical data \n",
    "merged_df = pd.merge(pc_qc, all_samples_pheno, how=\"inner\", on=\"IID\")\n",
    "\n",
    "## Rearrange\n",
    "rearrange_merged_df = merged_df[['FID', 'IID', 'PHENO', 'SEX', 'LABEL', 'STUDY', 'AGE', 'AAO', 'AADx', 'AAD', 'PC1', 'PC2', 'PC3', 'PC4', 'PC5', 'PC6', 'PC7', 'PC8', 'PC9', 'PC10']].copy()\n",
    "\n",
    "## Make PLINK specific files for SEX and PHENO\n",
    "# Make update files for PLINK\n",
    "update_sex = rearrange_merged_df[['FID', 'IID', 'SEX']]\n",
    "update_sex.to_csv(f\"{WORK_DIR}/data/GP2_v4_updateSEX.txt\", index=False, header=None, sep=\"\\t\")\n",
    "\n",
    "update_pheno = rearrange_merged_df[['FID', 'IID', 'PHENO']]\n",
    "update_pheno.to_csv(f\"{WORK_DIR}/data/GP2_v4_updatePHENO.txt\", index=False, header=None, sep=\"\\t\")"
   ]
  },
  {
   "cell_type": "code",
   "execution_count": 198,
   "id": "55364f28-a333-4b4e-a444-ef6bb2ac0096",
   "metadata": {},
   "outputs": [],
   "source": [
    "## Keep only unrelated individuals so we can get study, phenotype, age descriptions \n",
    "samples_toKeep = pd.read_csv(f\"{WORK_DIR}/data/sampleIDs_toKeep_noRelateds.txt\", sep=\"\\t\", header=None)\n",
    "samples_toKeep.columns = ['FID', 'IID']\n",
    "\n",
    "## Make final covariate file \n",
    "final_cov = pd.merge(rearrange_merged_df, samples_toKeep, how=\"inner\", on=[\"FID\",\"IID\"])\n",
    "final_cov.to_csv(f\"{WORK_DIR}/data/masterfile_updated_GP2_v4_covariateFile_FEB2023.txt\", index=False, sep=\"\\t\", na_rep=np.nan)\n",
    "\n",
    "## Make PLINK specific file of samples to keep\n",
    "samples = final_cov[['FID', 'IID']]\n",
    "samples.to_csv(f\"{WORK_DIR}/data/sampleIDs_toKeep_noRelateds.FINAL.txt\", index=False, header=None, sep=\"\\t\")"
   ]
  },
  {
   "cell_type": "markdown",
   "id": "47f404dd-cae1-4694-be3a-1ae6afb75e87",
   "metadata": {},
   "source": [
    "## Investigate"
   ]
  },
  {
   "cell_type": "code",
   "execution_count": null,
   "id": "6c72f2df-3373-4a11-96f6-e221f149097a",
   "metadata": {},
   "outputs": [],
   "source": [
    "final_cov = pd.read_csv(f\"{WORK_DIR}/data/masterfile_updated_GP2_v4_covariateFile_FEB2023.txt\", sep=\"\\t\")"
   ]
  },
  {
   "cell_type": "code",
   "execution_count": 201,
   "id": "1008a875-d67a-4acd-aa1f-a47c3f47d395",
   "metadata": {},
   "outputs": [
    {
     "data": {
      "text/plain": [
       "LABEL  PHENO\n",
       "AAC    1        1149\n",
       "       2         185\n",
       "AFR    1        1011\n",
       "       2         711\n",
       "Name: IID, dtype: int64"
      ]
     },
     "execution_count": 201,
     "metadata": {},
     "output_type": "execute_result"
    }
   ],
   "source": [
    "final_cov.groupby(['LABEL','PHENO'])['IID'].count()"
   ]
  },
  {
   "cell_type": "code",
   "execution_count": 202,
   "id": "551c4faf-2bc6-4334-b65d-fb2ec87ae2d3",
   "metadata": {},
   "outputs": [
    {
     "data": {
      "text/plain": [
       "AFR    1722\n",
       "AAC    1334\n",
       "Name: LABEL, dtype: int64"
      ]
     },
     "execution_count": 202,
     "metadata": {},
     "output_type": "execute_result"
    }
   ],
   "source": [
    "final_cov['LABEL'].value_counts()"
   ]
  },
  {
   "cell_type": "markdown",
   "id": "458a4e1d-8455-48e0-a583-8cbeb95e9901",
   "metadata": {},
   "source": [
    "# Calculate PCs\n",
    "\n",
    "Done previously for GP2 cohorts"
   ]
  },
  {
   "cell_type": "code",
   "execution_count": null,
   "id": "aafe70ac-2564-4ae9-8d9c-a6222636fee9",
   "metadata": {},
   "outputs": [],
   "source": [
    "%%bash\n",
    "\n",
    "plink2 --bfile ${NG_AFR_NEUROCHIP} \\\n",
    "--indep-pairwise 1000 50 0.05 \\\n",
    "--exclude range longLD_hg38.txt \\\n",
    "--out ${NG_AFR_NEUROCHIP}.pruning\n",
    "\n",
    "plink2 --bfile ${NG_AFR_NEUROCHIP} \\\n",
    "--extract ${NG_AFR_NEUROCHIP}.pruning.prune.in \\\n",
    "--make-bed --out ${NG_AFR_NEUROCHIP}.pruned\n",
    "\n",
    "cd ${WORK_DIR}/data/AFR/NIGERIAN-NC/\n",
    "\n",
    "flashpca --bfile ${NG_AFR_NEUROCHIP}.pruned \\\n",
    "--suffix .NG_NEUROCHIP_AFR.PCA.txt"
   ]
  },
  {
   "cell_type": "code",
   "execution_count": 61,
   "id": "6efba579-b72a-4a91-8e61-f887c4aac1d5",
   "metadata": {},
   "outputs": [],
   "source": [
    "## Read in old covariate file\n",
    "NG_NEUROCHIP_AFR_cov = pd.read_csv(f\"{WORK_DIR}/data/AFR/NIGERIAN-NC/NIGERIAN-NEUROCHIP-AFR-covariate.txt\", sep=\"\\t\")\n",
    "\n",
    "## Drop old PCs\n",
    "# Use filter() to select columns that start with \"PC\"\n",
    "cols_to_drop = NG_NEUROCHIP_AFR_cov.filter(regex='^PC').columns.tolist()\n",
    "\n",
    "# Use drop() to drop the selected columns\n",
    "NG_NEUROCHIP_AFR_cov = NG_NEUROCHIP_AFR_cov.drop(cols_to_drop, axis=1)\n",
    "\n",
    "## Read in flashPCA \n",
    "NG_NEUROCHIP_AFR_pcs = pd.read_csv(f\"{WORK_DIR}/data/AFR/NIGERIAN-NC/pcs.NG_NEUROCHIP_AFR.PCA.txt\", sep=\"\\t\")\n",
    "\n",
    "## Merge\n",
    "NG_NEUROCHIP_AFR = pd.merge(NG_NEUROCHIP_AFR_cov, NG_NEUROCHIP_AFR_pcs, on=[\"FID\", \"IID\"], how=\"left\")\n",
    "rearrange_NG_NEUROCHIP_AFR = NG_NEUROCHIP_AFR[[\"FID\", \"IID\", \"SEX\", \"PHENO\", \"PC1\", \"PC2\", \"PC3\", \"PC4\", \"PC5\", \"PC6\", \"PC7\", \"PC8\", \"PC9\", \"PC10\"]]\n",
    "rearrange_NG_NEUROCHIP_AFR.to_csv(f\"{WORK_DIR}/data/AFR/NIGERIAN-NC/NIGERIAN-NEUROCHIP-AFR-covariate-FEB2023.txt\", index=False, sep=\"\\t\")"
   ]
  },
  {
   "cell_type": "markdown",
   "id": "850d4c5b-271c-497c-a321-e6a34a75cdaa",
   "metadata": {},
   "source": [
    "# Make final PLINK files"
   ]
  },
  {
   "attachments": {},
   "cell_type": "markdown",
   "id": "608bb2bc-74f9-43f6-aba3-a0e33a0c9f6a",
   "metadata": {},
   "source": [
    "## IPDGC – Nigeria – AFR – NC\n",
    "Done previously"
   ]
  },
  {
   "cell_type": "markdown",
   "id": "cfbb2195-0eb5-4c68-a81f-b8810a746d48",
   "metadata": {},
   "source": [
    "## GP2 release 4 – AFR "
   ]
  },
  {
   "cell_type": "code",
   "execution_count": null,
   "id": "8290a078-99c2-4dfd-95a7-f1f18e8e4a78",
   "metadata": {},
   "outputs": [],
   "source": [
    "%%bash\n",
    "\n",
    "\n",
    "plink --bfile ${WORK_DIR}/data/AFR/GP2-v4-AFR-wNIGERIAN-NB/GP2-v4-AFR-wNIGERIAN-NB-preRELATED \\\n",
    "--keep ${WORK_DIR}/data/sampleIDs_toKeep_noRelateds.FINAL.txt \\\n",
    "--make-bed --out ${WORK_DIR}/data/AFR/GP2-v4-AFR-wNIGERIAN-NB/GP2-v4-AFR-wNIGERIAN-NB-noRelateds\n",
    "\n",
    "## kept 711 cases and 1011 controls"
   ]
  },
  {
   "cell_type": "markdown",
   "id": "0651786a-17d2-4691-b908-c45a3fea9a3f",
   "metadata": {},
   "source": [
    "## GP2 release 4 – AAC"
   ]
  },
  {
   "cell_type": "code",
   "execution_count": null,
   "id": "c81b3257-6299-49c3-b474-e98957a2369b",
   "metadata": {},
   "outputs": [],
   "source": [
    "%%bash\n",
    "\n",
    "\n",
    "plink --bfile ${WORK_DIR}/data/AAC/GP2-v4-AAC/GP2-v4-AAC-preRELATED \\\n",
    "--keep ${WORK_DIR}/data/sampleIDs_toKeep_noRelateds.FINAL.txt \\\n",
    "--make-bed --out ${WORK_DIR}/data/AAC/GP2-v4-AAC/GP2-v4-AAC-noRelateds\n",
    "\n",
    "## kept 185 cases and 1149 controls"
   ]
  },
  {
   "cell_type": "markdown",
   "id": "9732eb96-3ae7-4d7b-a4a9-c830f03e545e",
   "metadata": {},
   "source": [
    "# Add in age and AAO information"
   ]
  },
  {
   "cell_type": "code",
   "execution_count": 203,
   "id": "c35a1cd8-6b64-4e99-a999-c8e456c73b45",
   "metadata": {},
   "outputs": [],
   "source": [
    "def missingness_percentage(df):\n",
    "    # Calculate the percentage of missing values per column\n",
    "    percent_missing = df.isnull().mean() * 100\n",
    "    \n",
    "    # Sort the percentage of missing values in descending order\n",
    "    percent_missing = percent_missing.sort_values(ascending=False)\n",
    "    \n",
    "    # Convert the result to a dataframe and return it\n",
    "    return pd.DataFrame({'Column': percent_missing.index, 'Percent_Missing': percent_missing.values})"
   ]
  },
  {
   "cell_type": "code",
   "execution_count": 205,
   "id": "ca2ac505-f150-4b7b-ab26-bf4119c82456",
   "metadata": {
    "tags": []
   },
   "outputs": [],
   "source": [
    "# Read in abbreviated ages \n",
    "ages_raw = pd.read_csv(f\"{WORK_DIR}/data/other/ages/ages.csv\")\n",
    "ages_raw.drop_duplicates(inplace=True) # if whole rows are identical\n",
    "ages_raw.drop_duplicates(subset=['IID'], keep='first', inplace=True)"
   ]
  },
  {
   "cell_type": "code",
   "execution_count": 206,
   "id": "5418a1f6-fd9b-4846-8768-762a4e7c5684",
   "metadata": {},
   "outputs": [
    {
     "name": "stdout",
     "output_type": "stream",
     "text": [
      "(1317, 6)\n"
     ]
    },
    {
     "data": {
      "text/html": [
       "<div>\n",
       "<style scoped>\n",
       "    .dataframe tbody tr th:only-of-type {\n",
       "        vertical-align: middle;\n",
       "    }\n",
       "\n",
       "    .dataframe tbody tr th {\n",
       "        vertical-align: top;\n",
       "    }\n",
       "\n",
       "    .dataframe thead th {\n",
       "        text-align: right;\n",
       "    }\n",
       "</style>\n",
       "<table border=\"1\" class=\"dataframe\">\n",
       "  <thead>\n",
       "    <tr style=\"text-align: right;\">\n",
       "      <th></th>\n",
       "      <th>Column</th>\n",
       "      <th>Percent_Missing</th>\n",
       "    </tr>\n",
       "  </thead>\n",
       "  <tbody>\n",
       "    <tr>\n",
       "      <th>0</th>\n",
       "      <td>AADx</td>\n",
       "      <td>94.988610</td>\n",
       "    </tr>\n",
       "    <tr>\n",
       "      <th>1</th>\n",
       "      <td>AAO</td>\n",
       "      <td>6.757783</td>\n",
       "    </tr>\n",
       "    <tr>\n",
       "      <th>2</th>\n",
       "      <td>AGE</td>\n",
       "      <td>2.657555</td>\n",
       "    </tr>\n",
       "    <tr>\n",
       "      <th>3</th>\n",
       "      <td>IID</td>\n",
       "      <td>0.000000</td>\n",
       "    </tr>\n",
       "    <tr>\n",
       "      <th>4</th>\n",
       "      <td>PHENO</td>\n",
       "      <td>0.000000</td>\n",
       "    </tr>\n",
       "    <tr>\n",
       "      <th>5</th>\n",
       "      <td>SEX</td>\n",
       "      <td>0.000000</td>\n",
       "    </tr>\n",
       "  </tbody>\n",
       "</table>\n",
       "</div>"
      ],
      "text/plain": [
       "  Column  Percent_Missing\n",
       "0   AADx        94.988610\n",
       "1    AAO         6.757783\n",
       "2    AGE         2.657555\n",
       "3    IID         0.000000\n",
       "4  PHENO         0.000000\n",
       "5    SEX         0.000000"
      ]
     },
     "execution_count": 206,
     "metadata": {},
     "output_type": "execute_result"
    }
   ],
   "source": [
    "cases_ages = ages_raw[ages_raw['PHENO']==2]\n",
    "print(cases_ages.shape)\n",
    "missingness_percentage(cases_ages)"
   ]
  },
  {
   "cell_type": "code",
   "execution_count": 207,
   "id": "c6de338d-1bd8-4c10-ad49-570e5c9b0554",
   "metadata": {},
   "outputs": [
    {
     "name": "stdout",
     "output_type": "stream",
     "text": [
      "(2619, 6)\n"
     ]
    },
    {
     "data": {
      "text/html": [
       "<div>\n",
       "<style scoped>\n",
       "    .dataframe tbody tr th:only-of-type {\n",
       "        vertical-align: middle;\n",
       "    }\n",
       "\n",
       "    .dataframe tbody tr th {\n",
       "        vertical-align: top;\n",
       "    }\n",
       "\n",
       "    .dataframe thead th {\n",
       "        text-align: right;\n",
       "    }\n",
       "</style>\n",
       "<table border=\"1\" class=\"dataframe\">\n",
       "  <thead>\n",
       "    <tr style=\"text-align: right;\">\n",
       "      <th></th>\n",
       "      <th>Column</th>\n",
       "      <th>Percent_Missing</th>\n",
       "    </tr>\n",
       "  </thead>\n",
       "  <tbody>\n",
       "    <tr>\n",
       "      <th>0</th>\n",
       "      <td>AAO</td>\n",
       "      <td>97.327224</td>\n",
       "    </tr>\n",
       "    <tr>\n",
       "      <th>1</th>\n",
       "      <td>AADx</td>\n",
       "      <td>97.327224</td>\n",
       "    </tr>\n",
       "    <tr>\n",
       "      <th>2</th>\n",
       "      <td>AGE</td>\n",
       "      <td>1.641848</td>\n",
       "    </tr>\n",
       "    <tr>\n",
       "      <th>3</th>\n",
       "      <td>IID</td>\n",
       "      <td>0.000000</td>\n",
       "    </tr>\n",
       "    <tr>\n",
       "      <th>4</th>\n",
       "      <td>PHENO</td>\n",
       "      <td>0.000000</td>\n",
       "    </tr>\n",
       "    <tr>\n",
       "      <th>5</th>\n",
       "      <td>SEX</td>\n",
       "      <td>0.000000</td>\n",
       "    </tr>\n",
       "  </tbody>\n",
       "</table>\n",
       "</div>"
      ],
      "text/plain": [
       "  Column  Percent_Missing\n",
       "0    AAO        97.327224\n",
       "1   AADx        97.327224\n",
       "2    AGE         1.641848\n",
       "3    IID         0.000000\n",
       "4  PHENO         0.000000\n",
       "5    SEX         0.000000"
      ]
     },
     "execution_count": 207,
     "metadata": {},
     "output_type": "execute_result"
    }
   ],
   "source": [
    "controls_ages = ages_raw[ages_raw['PHENO']==1]\n",
    "print(controls_ages.shape)\n",
    "missingness_percentage(controls_ages)"
   ]
  },
  {
   "cell_type": "code",
   "execution_count": 208,
   "id": "13bb5a86-2971-4772-b63b-467d22799cfd",
   "metadata": {},
   "outputs": [
    {
     "name": "stderr",
     "output_type": "stream",
     "text": [
      "/tmp/ipykernel_11584/1413353475.py:11: SettingWithCopyWarning: \n",
      "A value is trying to be set on a copy of a slice from a DataFrame.\n",
      "Try using .loc[row_indexer,col_indexer] = value instead\n",
      "\n",
      "See the caveats in the documentation: https://pandas.pydata.org/pandas-docs/stable/user_guide/indexing.html#returning-a-view-versus-a-copy\n",
      "  covar_w_ages_info['AGE_ANALYSIS'] = covar_w_ages_info['AAO'].fillna(covar_w_ages_info['AGE'])\n"
     ]
    }
   ],
   "source": [
    "# Read in final cov file from above \n",
    "final_cov = pd.read_csv(f\"{WORK_DIR}/data/masterfile_updated_GP2_v4_covariateFile_FEB2023.txt\", sep=\"\\t\")\n",
    "\n",
    "# Make a list of samples to keep \n",
    "samplestoKeep_list = final_cov['IID'].tolist()\n",
    "covar_w_ages_info = ages_raw[ages_raw['IID'].isin(samplestoKeep_list)]\n",
    "covar_w_ages_info.reset_index(inplace=True, drop=True)\n",
    "covar_w_ages_info\n",
    "\n",
    "# Prioritize AAO then age at recruitment \n",
    "covar_w_ages_info['AGE_ANALYSIS'] = covar_w_ages_info['AAO'].fillna(covar_w_ages_info['AGE'])"
   ]
  },
  {
   "cell_type": "code",
   "execution_count": 209,
   "id": "99bad847-260f-4264-887f-efb301217c4d",
   "metadata": {},
   "outputs": [
    {
     "name": "stdout",
     "output_type": "stream",
     "text": [
      "(871, 7)\n"
     ]
    },
    {
     "data": {
      "text/html": [
       "<div>\n",
       "<style scoped>\n",
       "    .dataframe tbody tr th:only-of-type {\n",
       "        vertical-align: middle;\n",
       "    }\n",
       "\n",
       "    .dataframe tbody tr th {\n",
       "        vertical-align: top;\n",
       "    }\n",
       "\n",
       "    .dataframe thead th {\n",
       "        text-align: right;\n",
       "    }\n",
       "</style>\n",
       "<table border=\"1\" class=\"dataframe\">\n",
       "  <thead>\n",
       "    <tr style=\"text-align: right;\">\n",
       "      <th></th>\n",
       "      <th>Column</th>\n",
       "      <th>Percent_Missing</th>\n",
       "    </tr>\n",
       "  </thead>\n",
       "  <tbody>\n",
       "    <tr>\n",
       "      <th>0</th>\n",
       "      <td>AADx</td>\n",
       "      <td>92.652124</td>\n",
       "    </tr>\n",
       "    <tr>\n",
       "      <th>1</th>\n",
       "      <td>AAO</td>\n",
       "      <td>9.758898</td>\n",
       "    </tr>\n",
       "    <tr>\n",
       "      <th>2</th>\n",
       "      <td>AGE</td>\n",
       "      <td>4.018370</td>\n",
       "    </tr>\n",
       "    <tr>\n",
       "      <th>3</th>\n",
       "      <td>AGE_ANALYSIS</td>\n",
       "      <td>4.018370</td>\n",
       "    </tr>\n",
       "    <tr>\n",
       "      <th>4</th>\n",
       "      <td>IID</td>\n",
       "      <td>0.000000</td>\n",
       "    </tr>\n",
       "    <tr>\n",
       "      <th>5</th>\n",
       "      <td>PHENO</td>\n",
       "      <td>0.000000</td>\n",
       "    </tr>\n",
       "    <tr>\n",
       "      <th>6</th>\n",
       "      <td>SEX</td>\n",
       "      <td>0.000000</td>\n",
       "    </tr>\n",
       "  </tbody>\n",
       "</table>\n",
       "</div>"
      ],
      "text/plain": [
       "         Column  Percent_Missing\n",
       "0          AADx        92.652124\n",
       "1           AAO         9.758898\n",
       "2           AGE         4.018370\n",
       "3  AGE_ANALYSIS         4.018370\n",
       "4           IID         0.000000\n",
       "5         PHENO         0.000000\n",
       "6           SEX         0.000000"
      ]
     },
     "execution_count": 209,
     "metadata": {},
     "output_type": "execute_result"
    }
   ],
   "source": [
    "## Look at cases\n",
    "cases_ages = covar_w_ages_info[covar_w_ages_info['PHENO']==2]\n",
    "print(cases_ages.shape)\n",
    "missingness_percentage(cases_ages)"
   ]
  },
  {
   "cell_type": "code",
   "execution_count": 210,
   "id": "c2c5bb07-400e-4eaf-a4a4-617e354c8af8",
   "metadata": {},
   "outputs": [
    {
     "name": "stdout",
     "output_type": "stream",
     "text": [
      "(2185, 7)\n"
     ]
    },
    {
     "data": {
      "text/html": [
       "<div>\n",
       "<style scoped>\n",
       "    .dataframe tbody tr th:only-of-type {\n",
       "        vertical-align: middle;\n",
       "    }\n",
       "\n",
       "    .dataframe tbody tr th {\n",
       "        vertical-align: top;\n",
       "    }\n",
       "\n",
       "    .dataframe thead th {\n",
       "        text-align: right;\n",
       "    }\n",
       "</style>\n",
       "<table border=\"1\" class=\"dataframe\">\n",
       "  <thead>\n",
       "    <tr style=\"text-align: right;\">\n",
       "      <th></th>\n",
       "      <th>Column</th>\n",
       "      <th>Percent_Missing</th>\n",
       "    </tr>\n",
       "  </thead>\n",
       "  <tbody>\n",
       "    <tr>\n",
       "      <th>0</th>\n",
       "      <td>AAO</td>\n",
       "      <td>96.933638</td>\n",
       "    </tr>\n",
       "    <tr>\n",
       "      <th>1</th>\n",
       "      <td>AADx</td>\n",
       "      <td>96.933638</td>\n",
       "    </tr>\n",
       "    <tr>\n",
       "      <th>2</th>\n",
       "      <td>AGE</td>\n",
       "      <td>1.967963</td>\n",
       "    </tr>\n",
       "    <tr>\n",
       "      <th>3</th>\n",
       "      <td>AGE_ANALYSIS</td>\n",
       "      <td>1.967963</td>\n",
       "    </tr>\n",
       "    <tr>\n",
       "      <th>4</th>\n",
       "      <td>IID</td>\n",
       "      <td>0.000000</td>\n",
       "    </tr>\n",
       "    <tr>\n",
       "      <th>5</th>\n",
       "      <td>PHENO</td>\n",
       "      <td>0.000000</td>\n",
       "    </tr>\n",
       "    <tr>\n",
       "      <th>6</th>\n",
       "      <td>SEX</td>\n",
       "      <td>0.000000</td>\n",
       "    </tr>\n",
       "  </tbody>\n",
       "</table>\n",
       "</div>"
      ],
      "text/plain": [
       "         Column  Percent_Missing\n",
       "0           AAO        96.933638\n",
       "1          AADx        96.933638\n",
       "2           AGE         1.967963\n",
       "3  AGE_ANALYSIS         1.967963\n",
       "4           IID         0.000000\n",
       "5         PHENO         0.000000\n",
       "6           SEX         0.000000"
      ]
     },
     "execution_count": 210,
     "metadata": {},
     "output_type": "execute_result"
    }
   ],
   "source": [
    "## Look at controls\n",
    "controls_ages = covar_w_ages_info[covar_w_ages_info['PHENO']==1]\n",
    "print(controls_ages.shape)\n",
    "missingness_percentage(controls_ages)"
   ]
  },
  {
   "cell_type": "markdown",
   "id": "2c462c7f-337c-4ee4-b143-0480dba0b67b",
   "metadata": {},
   "source": [
    "* AGE_ANALYSIS is AAO for cases, age at baseline (recruitment) for controls\n",
    "    * 9.76% of cases were missing AAO information\n",
    "        * For 5.74% of cases, AAO was not available, so age at recruitment was used\n",
    "        * For the remaining ~4% of cases with missing age information, average age_analysis will be imputed in\n",
    "    * For controls, 1.96% controls were missing age at recruitment information, so average age_analysis will be imputed in"
   ]
  },
  {
   "cell_type": "code",
   "execution_count": null,
   "id": "83484483-cf74-4bb4-bb50-364d62ed5a15",
   "metadata": {},
   "outputs": [],
   "source": [
    "## Imputing age information \n",
    "covar_w_ages_info['AGE_ANALYSIS'] = covar_w_ages_info['AGE_ANALYSIS'].fillna(covar_w_ages_info['AGE_ANALYSIS'].mean())\n",
    "covar_w_ages_info"
   ]
  },
  {
   "cell_type": "code",
   "execution_count": 4,
   "id": "db91471c-105f-4be3-bc69-697138bbae2e",
   "metadata": {},
   "outputs": [],
   "source": [
    "def plot_age_distribution_bars(df, case_col, age_col, title=\"TITLE\"):\n",
    "    # Split data into case and control groups\n",
    "    cases = df[df[case_col] == 2]\n",
    "    controls = df[df[case_col] == 1]\n",
    "    \n",
    "    # Plot age distribution for case and control groups\n",
    "    fig, ax = plt.subplots()\n",
    "\n",
    "    controls[age_col].plot.hist(bins=10, alpha=0.5, ax=ax, label='Control')\n",
    "    cases[age_col].plot.hist(bins=10, alpha=0.5, ax=ax, label='Case')\n",
    "    \n",
    "    ax.set_xlabel('Age')\n",
    "    ax.set_ylabel('Count')\n",
    "    plt.xticks(np.arange(0, 100, 10))\n",
    "    ax.set_title(title)\n",
    "    ax.legend()\n",
    "    plt.savefig(f\"{WORK_DIR}/data/other/ages/{title}.png\", format=\"png\", dpi=300)\n",
    "    \n",
    "    return fig"
   ]
  },
  {
   "cell_type": "code",
   "execution_count": 213,
   "id": "6945bc40-1465-454d-a411-3efbe2c79a7c",
   "metadata": {},
   "outputs": [],
   "source": [
    "#fig = plot_age_distribution_bars(covar_w_ages_info, 'PHENO', 'AGE_ANALYSIS', \"African and African Admixed - All Samples\")"
   ]
  },
  {
   "cell_type": "code",
   "execution_count": null,
   "id": "2dfcf684-b164-4b91-9f35-9dc17a1b2f29",
   "metadata": {},
   "outputs": [],
   "source": [
    "## Drop some columns so they dont give us an issue during merging \n",
    "covar_w_ages_info.drop(columns=['PHENO','SEX'], inplace=True)\n",
    "final_cov.drop(columns=['AGE','AAO', 'AADx', 'AAD'], inplace=True)\n",
    "\n",
    "## Final covariate file\n",
    "final_cov_age = pd.merge(final_cov, covar_w_ages_info, how=\"left\", on=\"IID\")\n",
    "final_cov_age.to_csv(f\"{WORK_DIR}/data/masterfile_updated_GP2_v4_covariateFile_wAGE_FEB2023.txt\", index=False, sep=\"\\t\", na_rep=np.nan)\n",
    "final_cov_age"
   ]
  },
  {
   "cell_type": "code",
   "execution_count": 217,
   "id": "92a8e560-8367-4479-97fd-dddeef573e53",
   "metadata": {},
   "outputs": [
    {
     "data": {
      "image/png": "[encoded data removed]",
      "text/plain": [
       "<Figure size 432x288 with 1 Axes>"
      ]
     },
     "metadata": {
      "needs_background": "light"
     },
     "output_type": "display_data"
    }
   ],
   "source": [
    "fig = plot_age_distribution_bars(final_cov_age, 'PHENO', 'AGE_ANALYSIS', \"African and African Admixed - GP2 AFR-AAC Samples\")"
   ]
  },
  {
   "cell_type": "code",
   "execution_count": null,
   "id": "b4f5aef5-c3fb-401e-b84f-faa69ab58e84",
   "metadata": {},
   "outputs": [],
   "source": [
    "## Read in Nigerian NC covariates \n",
    "nigerian_nc = pd.read_csv(f\"{WORK_DIR}/data/AFR/NIGERIAN-NC/NIGERIAN-NEUROCHIP-AFR-covariate-FEB2023.txt\", sep=\"\\t\")\n",
    "nigerian_nc"
   ]
  },
  {
   "cell_type": "code",
   "execution_count": 219,
   "id": "a69a877e-4410-457b-9c46-c6f3dc81b80c",
   "metadata": {},
   "outputs": [
    {
     "name": "stdout",
     "output_type": "stream",
     "text": [
      "(1317, 6)\n"
     ]
    },
    {
     "data": {
      "text/html": [
       "<div>\n",
       "<style scoped>\n",
       "    .dataframe tbody tr th:only-of-type {\n",
       "        vertical-align: middle;\n",
       "    }\n",
       "\n",
       "    .dataframe tbody tr th {\n",
       "        vertical-align: top;\n",
       "    }\n",
       "\n",
       "    .dataframe thead th {\n",
       "        text-align: right;\n",
       "    }\n",
       "</style>\n",
       "<table border=\"1\" class=\"dataframe\">\n",
       "  <thead>\n",
       "    <tr style=\"text-align: right;\">\n",
       "      <th></th>\n",
       "      <th>Column</th>\n",
       "      <th>Percent_Missing</th>\n",
       "    </tr>\n",
       "  </thead>\n",
       "  <tbody>\n",
       "    <tr>\n",
       "      <th>0</th>\n",
       "      <td>AADx</td>\n",
       "      <td>94.988610</td>\n",
       "    </tr>\n",
       "    <tr>\n",
       "      <th>1</th>\n",
       "      <td>AAO</td>\n",
       "      <td>6.757783</td>\n",
       "    </tr>\n",
       "    <tr>\n",
       "      <th>2</th>\n",
       "      <td>AGE</td>\n",
       "      <td>2.657555</td>\n",
       "    </tr>\n",
       "    <tr>\n",
       "      <th>3</th>\n",
       "      <td>IID</td>\n",
       "      <td>0.000000</td>\n",
       "    </tr>\n",
       "    <tr>\n",
       "      <th>4</th>\n",
       "      <td>PHENO</td>\n",
       "      <td>0.000000</td>\n",
       "    </tr>\n",
       "    <tr>\n",
       "      <th>5</th>\n",
       "      <td>SEX</td>\n",
       "      <td>0.000000</td>\n",
       "    </tr>\n",
       "  </tbody>\n",
       "</table>\n",
       "</div>"
      ],
      "text/plain": [
       "  Column  Percent_Missing\n",
       "0   AADx        94.988610\n",
       "1    AAO         6.757783\n",
       "2    AGE         2.657555\n",
       "3    IID         0.000000\n",
       "4  PHENO         0.000000\n",
       "5    SEX         0.000000"
      ]
     },
     "execution_count": 219,
     "metadata": {},
     "output_type": "execute_result"
    }
   ],
   "source": [
    "nc_cases_ages = ages_raw[ages_raw['PHENO']==2]\n",
    "print(nc_cases_ages.shape)\n",
    "missingness_percentage(nc_cases_ages)"
   ]
  },
  {
   "cell_type": "code",
   "execution_count": 220,
   "id": "53e7fa6c-4754-4596-a006-cabe5dcfd489",
   "metadata": {},
   "outputs": [
    {
     "name": "stdout",
     "output_type": "stream",
     "text": [
      "(2619, 6)\n"
     ]
    },
    {
     "data": {
      "text/html": [
       "<div>\n",
       "<style scoped>\n",
       "    .dataframe tbody tr th:only-of-type {\n",
       "        vertical-align: middle;\n",
       "    }\n",
       "\n",
       "    .dataframe tbody tr th {\n",
       "        vertical-align: top;\n",
       "    }\n",
       "\n",
       "    .dataframe thead th {\n",
       "        text-align: right;\n",
       "    }\n",
       "</style>\n",
       "<table border=\"1\" class=\"dataframe\">\n",
       "  <thead>\n",
       "    <tr style=\"text-align: right;\">\n",
       "      <th></th>\n",
       "      <th>Column</th>\n",
       "      <th>Percent_Missing</th>\n",
       "    </tr>\n",
       "  </thead>\n",
       "  <tbody>\n",
       "    <tr>\n",
       "      <th>0</th>\n",
       "      <td>AAO</td>\n",
       "      <td>97.327224</td>\n",
       "    </tr>\n",
       "    <tr>\n",
       "      <th>1</th>\n",
       "      <td>AADx</td>\n",
       "      <td>97.327224</td>\n",
       "    </tr>\n",
       "    <tr>\n",
       "      <th>2</th>\n",
       "      <td>AGE</td>\n",
       "      <td>1.641848</td>\n",
       "    </tr>\n",
       "    <tr>\n",
       "      <th>3</th>\n",
       "      <td>IID</td>\n",
       "      <td>0.000000</td>\n",
       "    </tr>\n",
       "    <tr>\n",
       "      <th>4</th>\n",
       "      <td>PHENO</td>\n",
       "      <td>0.000000</td>\n",
       "    </tr>\n",
       "    <tr>\n",
       "      <th>5</th>\n",
       "      <td>SEX</td>\n",
       "      <td>0.000000</td>\n",
       "    </tr>\n",
       "  </tbody>\n",
       "</table>\n",
       "</div>"
      ],
      "text/plain": [
       "  Column  Percent_Missing\n",
       "0    AAO        97.327224\n",
       "1   AADx        97.327224\n",
       "2    AGE         1.641848\n",
       "3    IID         0.000000\n",
       "4  PHENO         0.000000\n",
       "5    SEX         0.000000"
      ]
     },
     "execution_count": 220,
     "metadata": {},
     "output_type": "execute_result"
    }
   ],
   "source": [
    "nc_controls_ages = ages_raw[ages_raw['PHENO']==1]\n",
    "print(nc_controls_ages.shape)\n",
    "missingness_percentage(nc_controls_ages)"
   ]
  },
  {
   "cell_type": "code",
   "execution_count": 221,
   "id": "49b1583a-9aab-4dfe-a48f-f55c19f6c391",
   "metadata": {},
   "outputs": [],
   "source": [
    "# Prioritize AAO then age at recruitment \n",
    "ages_raw['AGE_ANALYSIS'] = ages_raw['AAO'].fillna(ages_raw['AGE'])"
   ]
  },
  {
   "cell_type": "code",
   "execution_count": 222,
   "id": "3757c0c5-95d4-4d92-ac9e-6fc5f87c538d",
   "metadata": {},
   "outputs": [
    {
     "name": "stdout",
     "output_type": "stream",
     "text": [
      "(1317, 7)\n"
     ]
    },
    {
     "data": {
      "text/html": [
       "<div>\n",
       "<style scoped>\n",
       "    .dataframe tbody tr th:only-of-type {\n",
       "        vertical-align: middle;\n",
       "    }\n",
       "\n",
       "    .dataframe tbody tr th {\n",
       "        vertical-align: top;\n",
       "    }\n",
       "\n",
       "    .dataframe thead th {\n",
       "        text-align: right;\n",
       "    }\n",
       "</style>\n",
       "<table border=\"1\" class=\"dataframe\">\n",
       "  <thead>\n",
       "    <tr style=\"text-align: right;\">\n",
       "      <th></th>\n",
       "      <th>Column</th>\n",
       "      <th>Percent_Missing</th>\n",
       "    </tr>\n",
       "  </thead>\n",
       "  <tbody>\n",
       "    <tr>\n",
       "      <th>0</th>\n",
       "      <td>AADx</td>\n",
       "      <td>94.988610</td>\n",
       "    </tr>\n",
       "    <tr>\n",
       "      <th>1</th>\n",
       "      <td>AAO</td>\n",
       "      <td>6.757783</td>\n",
       "    </tr>\n",
       "    <tr>\n",
       "      <th>2</th>\n",
       "      <td>AGE</td>\n",
       "      <td>2.657555</td>\n",
       "    </tr>\n",
       "    <tr>\n",
       "      <th>3</th>\n",
       "      <td>AGE_ANALYSIS</td>\n",
       "      <td>2.657555</td>\n",
       "    </tr>\n",
       "    <tr>\n",
       "      <th>4</th>\n",
       "      <td>IID</td>\n",
       "      <td>0.000000</td>\n",
       "    </tr>\n",
       "    <tr>\n",
       "      <th>5</th>\n",
       "      <td>PHENO</td>\n",
       "      <td>0.000000</td>\n",
       "    </tr>\n",
       "    <tr>\n",
       "      <th>6</th>\n",
       "      <td>SEX</td>\n",
       "      <td>0.000000</td>\n",
       "    </tr>\n",
       "  </tbody>\n",
       "</table>\n",
       "</div>"
      ],
      "text/plain": [
       "         Column  Percent_Missing\n",
       "0          AADx        94.988610\n",
       "1           AAO         6.757783\n",
       "2           AGE         2.657555\n",
       "3  AGE_ANALYSIS         2.657555\n",
       "4           IID         0.000000\n",
       "5         PHENO         0.000000\n",
       "6           SEX         0.000000"
      ]
     },
     "execution_count": 222,
     "metadata": {},
     "output_type": "execute_result"
    }
   ],
   "source": [
    "nc_cases_ages = ages_raw[ages_raw['PHENO']==2]\n",
    "print(nc_cases_ages.shape)\n",
    "missingness_percentage(nc_cases_ages)"
   ]
  },
  {
   "cell_type": "code",
   "execution_count": null,
   "id": "59bd1f55-6161-4ce9-9be9-43602282879f",
   "metadata": {},
   "outputs": [],
   "source": [
    "## Drop some columns so they dont give us an issue during merging \n",
    "ages_raw.drop(columns=['PHENO','SEX'], inplace=True)\n",
    "\n",
    "## Imputing age information \n",
    "ages_raw['AGE_ANALYSIS'] = ages_raw['AGE_ANALYSIS'].fillna(ages_raw['AGE_ANALYSIS'].mean())\n",
    "\n",
    "ng_nc_final_cov_age = pd.merge(nigerian_nc, ages_raw, how=\"left\", on=\"IID\")\n",
    "ng_nc_final_cov_age.to_csv(f\"{WORK_DIR}/data/AFR/NIGERIAN-NC/NIGERIAN-NEUROCHIP-AFR-covariate-wAGE-FEB2023.txt\", index=False, sep=\"\\t\", na_rep=np.nan)\n",
    "ng_nc_final_cov_age"
   ]
  },
  {
   "cell_type": "code",
   "execution_count": 224,
   "id": "adbd8208-c055-4dcd-90bc-88c7a5ab13a7",
   "metadata": {},
   "outputs": [
    {
     "data": {
      "image/png": "[encoded data removed]",
      "text/plain": [
       "<Figure size 432x288 with 1 Axes>"
      ]
     },
     "metadata": {
      "needs_background": "light"
     },
     "output_type": "display_data"
    }
   ],
   "source": [
    "fig2 = plot_age_distribution_bars(ng_nc_final_cov_age, 'PHENO', 'AGE_ANALYSIS', \"IPDGC Africa Nigerian NeuroChip Samples\")"
   ]
  },
  {
   "cell_type": "markdown",
   "id": "bdbbbbc8-ce51-4150-8e86-3082ad7fa44e",
   "metadata": {},
   "source": [
    "# Prepping chr1 EUR from GP2 release 4"
   ]
  },
  {
   "cell_type": "code",
   "execution_count": null,
   "id": "02aa1b2a-f80d-4ce3-bcd6-e03524cf55fb",
   "metadata": {},
   "outputs": [],
   "source": [
    "%%bash\n",
    "\n",
    "## Make PLINK v1.9 files \n",
    "\n",
    "plink2 --pfile ${WORK_DIR}/data/other/GP2_v4_EUR_chr1/chr1_EUR_release4 \\\n",
    "--make-bed --out ${WORK_DIR}/data/other/GP2_v4_EUR_chr1/chr1_EUR_release4_noSEXPHENO "
   ]
  },
  {
   "cell_type": "code",
   "execution_count": 245,
   "id": "c2e83bc4-de3b-4233-ae82-60fa19b79017",
   "metadata": {},
   "outputs": [],
   "source": [
    "## Read in files \n",
    "master_key = pd.read_csv(f\"{WORK_DIR}/data/other/GP2_v4_EUR_chr1/master_key_release4_final.csv\", usecols=['GP2sampleID', 'sex_for_qc', 'pheno_for_qc'])\n",
    "eur_pcs = pd.read_csv(f\"{WORK_DIR}/data/other/GP2_v4_EUR_chr1/GP2_round4_JAN_24_2023_EUR_maf_hwe_pca.eigenvec\", sep=\"\\t\")\n",
    "eur_v4_fam = pd.read_csv(f\"{WORK_DIR}/data/other/GP2_v4_EUR_chr1/chr1_EUR_release4_noSEXPHENO.fam\", sep=\"\\t\", header=None)\n",
    "eur_v4_fam.columns = ['FID', 'IID', 'PAT', 'MAT', 'SEX', 'PHENO']\n",
    "eur_v4_fam.drop(columns=['PAT', 'MAT', 'SEX', 'PHENO'], inplace=True)\n",
    "\n",
    "## Add FID and IID to match PLINK1.9 convention\n",
    "master_key['FID'] = 0\n",
    "#master_key['IID'] = master_key['FID'].astype(str) + '_' + master_key['GP2sampleID'].astype(str)\n",
    "master_key['IID'] = master_key['GP2sampleID'].astype(str)\n",
    "master_key.drop(columns=['FID','GP2sampleID'], inplace=True)\n",
    "\n",
    "## Keep samples that only have a 1 or 2 for PHENO\n",
    "master_key = master_key[master_key['pheno_for_qc'] >= 1]\n",
    "master_key.rename(columns={'sex_for_qc':'SEX', 'pheno_for_qc':'PHENO'}, inplace=True)\n",
    "\n",
    "## Format European PCs\n",
    "eur_pcs.drop(columns=['#FID'], inplace=True)\n",
    "\n",
    "## Merge \n",
    "merge_fam_pcs = pd.merge(eur_v4_fam, eur_pcs, how=\"left\", on=\"IID\")\n",
    "merge_df = pd.merge(merge_fam_pcs, master_key, how=\"left\", on=\"IID\")\n",
    "\n",
    "rearrange_merge_df = merge_df[['FID', 'IID', 'SEX', 'PHENO', 'PC1', 'PC2', 'PC3', 'PC4', 'PC5', 'PC6', 'PC7', 'PC8', 'PC9', 'PC10']].copy()\n",
    "rearrange_merge_df['SEX']=[int(val) if isinstance(val,numbers.Number) & (math.isnan(val)==False) else -9 for val in rearrange_merge_df['SEX']]\n",
    "rearrange_merge_df['PHENO']=[int(val) if isinstance(val,numbers.Number) & (math.isnan(val)==False) else 0 for val in rearrange_merge_df['PHENO']]\n",
    "rearrange_merge_df = rearrange_merge_df[rearrange_merge_df['PHENO'] >= 1]\n",
    "\n",
    "# Save\n",
    "rearrange_merge_df.to_csv(f\"{WORK_DIR}/data/other/GP2_v4_EUR_chr1/GP2_v4_EUR_updated_covariateFile_FEB2023.txt\", index=False, sep=\"\\t\", na_rep=np.nan)\n",
    "\n",
    "# Make update files for PLINK\n",
    "update_sex = rearrange_merge_df[['FID', 'IID', 'SEX']]\n",
    "update_sex.to_csv(f\"{WORK_DIR}/data/other/GP2_v4_EUR_chr1/GP2_v4_EUR_updateSEX_FEB2023.txt\", index=False, header=None, sep=\"\\t\")\n",
    "\n",
    "update_pheno = rearrange_merge_df[['FID', 'IID', 'PHENO']]\n",
    "update_pheno.to_csv(f\"{WORK_DIR}/data/other/GP2_v4_EUR_chr1/GP2_v4_EUR_updatePHENO_FEB2023.txt\", index=False, header=None, sep=\"\\t\")"
   ]
  },
  {
   "cell_type": "code",
   "execution_count": null,
   "id": "30d81307-9a34-4f62-9ef6-261739b74d73",
   "metadata": {},
   "outputs": [],
   "source": [
    "%%bash\n",
    "\n",
    "## Update sex and phenotype \n",
    "\n",
    "plink --bfile ${WORK_DIR}/data/other/GP2_v4_EUR_chr1/chr1_EUR_release4_noSEXPHENO \\\n",
    "--pheno ${WORK_DIR}/data/other/GP2_v4_EUR_chr1/GP2_v4_EUR_updatePHENO_FEB2023.txt \\\n",
    "--update-sex ${WORK_DIR}/data/other/GP2_v4_EUR_chr1/GP2_v4_EUR_updateSEX_FEB2023.txt \\\n",
    "--make-bed --out ${WORK_DIR}/data/other/GP2_v4_EUR_chr1/chr1_EUR_release4\n",
    "\n",
    "## kept 7952 cases and 4326 controls"
   ]
  },
  {
   "cell_type": "markdown",
   "id": "ed1c6e41-082b-44a6-b2fa-b8cabac3433c",
   "metadata": {},
   "source": [
    "## Splitting age to plot"
   ]
  },
  {
   "cell_type": "code",
   "execution_count": 7,
   "id": "7716f75f-7570-451c-bcc4-d0b6f8a6a0fc",
   "metadata": {},
   "outputs": [],
   "source": [
    "final_cov_age = pd.read_csv(f\"{WORK_DIR}/data/masterfile_updated_GP2_v4_covariateFile_wAGE_FEB2023.txt\", sep=\"\\t\")\n",
    "final_cov_age_AFR = final_cov_age[final_cov_age['LABEL']==\"AFR\"].copy()\n",
    "final_cov_age_AAC = final_cov_age[final_cov_age['LABEL']==\"AAC\"].copy()"
   ]
  },
  {
   "cell_type": "code",
   "execution_count": 10,
   "id": "0fede851-a449-440e-9138-4dc40f3b717b",
   "metadata": {},
   "outputs": [
    {
     "data": {
      "image/png": "[encoded data removed]",
      "text/plain": [
       "<Figure size 640x480 with 1 Axes>"
      ]
     },
     "metadata": {},
     "output_type": "display_data"
    }
   ],
   "source": [
    "fig = plot_age_distribution_bars(final_cov_age_AFR, 'PHENO', 'AGE_ANALYSIS', \"GP2 - Release 4 - AFR\")"
   ]
  },
  {
   "cell_type": "code",
   "execution_count": 12,
   "id": "ea6ae648-b690-4fe6-8c5a-3b77ecdd23eb",
   "metadata": {},
   "outputs": [
    {
     "data": {
      "image/png": "[encoded data removed]",
      "text/plain": [
       "<Figure size 640x480 with 1 Axes>"
      ]
     },
     "metadata": {},
     "output_type": "display_data"
    }
   ],
   "source": [
    "fig = plot_age_distribution_bars(final_cov_age_AAC, 'PHENO', 'AGE_ANALYSIS', \"GP2 - Release 4 - African Admixed\")"
   ]
  },
  {
   "cell_type": "code",
   "execution_count": null,
   "id": "eb37da99-9b71-4b0a-a6fd-295ed487cd5d",
   "metadata": {},
   "outputs": [],
   "source": []
  }
 ],
 "metadata": {
  "kernelspec": {
   "display_name": "python/3.9",
   "language": "python",
   "name": "py3.9"
  },
  "language_info": {
   "codemirror_mode": {
    "name": "ipython",
    "version": 3
   },
   "file_extension": ".py",
   "mimetype": "text/x-python",
   "name": "python",
   "nbconvert_exporter": "python",
   "pygments_lexer": "ipython3",
   "version": "3.9.15"
  }
 },
 "nbformat": 4,
 "nbformat_minor": 5
}
