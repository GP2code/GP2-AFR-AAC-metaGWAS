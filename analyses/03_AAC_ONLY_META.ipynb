{
 "cells": [
  {
   "attachments": {},
   "cell_type": "markdown",
   "id": "93f723e6-8400-4964-98b4-600c6b2a6181",
   "metadata": {},
   "source": [
    "# Meta-analysis 1: AAC+23andMe Only\n",
    "- **Project:** GP2 AFR-AAC meta-GWAS \n",
    "- **Version:** Python/3.9\n",
    "- **Status:** COMPLETE\n",
    "- **Started:** 22-FEB-2023\n",
    "- **Last Updated:** 22-FEB-2023\n",
    "    - **Update Description:**  Notebook started\n",
    "\n",
    "## Notebook Overview\n",
    "- Meta-GWAS #1: Looking at African admixed individuals only\n",
    "\n",
    "### CHANGELOG\n",
    "- 22-FEB-2023: Notebook started \n",
    "\n",
    "\n",
    "---\n",
    "# Data Overview \n",
    "\n",
    "| ANCESTRY |     DATASET     | CASES | CONTROLS |  TOTAL  |           ARRAY           |                NOTES                |\n",
    "|:--------:|:---------------:|:-----:|:--------:|:-------------------------:|:---------------------------------------------------------------------------------------------------------------:|:-----------------------------------:|\n",
    "|    AFR   | IPDGC – Nigeria |  304  |    285   |   589   |         NeuroChip         | . | \n",
    "|    AFR   |  GP2  |  711  |   1,011  |  1,722  |        NeuroBooster       | . |\n",
    "|    AAC   |  GP2 |  185  |   1,149  |  1,334  |        NeuroBooster       | . | \n",
    "|    AAC   |     23andMe     |  288  |  193,985 | 194,273 | Omni Express & GSA & 550k |        Just summary statistics       |"
   ]
  },
  {
   "attachments": {},
   "cell_type": "markdown",
   "id": "4be3ff87-c291-4246-a95c-c2ba51073c64",
   "metadata": {
    "tags": []
   },
   "source": [
    "# Getting Started"
   ]
  },
  {
   "cell_type": "markdown",
   "id": "a2134c10-e19b-49f1-aa9a-9585947f0d14",
   "metadata": {},
   "source": [
    "## Importing packages"
   ]
  },
  {
   "cell_type": "code",
   "execution_count": 3,
   "id": "678b0e77-f354-4e88-9547-f32166b7841f",
   "metadata": {},
   "outputs": [
    {
     "name": "stdout",
     "output_type": "stream",
     "text": [
      "PACKAGE VERSIONS (22-FEB-2023)\n",
      "\tmatplotlib==3.5.2\n",
      "\tnumpy==1.22.4\n",
      "\tscipy==1.8.1\n",
      "\tpandas==1.4.3\n",
      "\tstatsmodels==0.13.2\n",
      "\tseaborn==0.11.2\n"
     ]
    }
   ],
   "source": [
    "## Import the necessary packages \n",
    "import os\n",
    "import numpy as np\n",
    "import pandas as pd\n",
    "import math\n",
    "import numbers\n",
    "import sys\n",
    "import subprocess\n",
    "import statsmodels.api as sm\n",
    "import scipy\n",
    "from scipy import stats\n",
    "import matplotlib.pyplot as plt\n",
    "import seaborn as sns\n",
    "from IPython.display import display\n",
    "\n",
    "## Print out package versions\n",
    "## Getting packages loaded into this notebook and their versions to allow for reproducibility\n",
    "    # Repurposed code from stackoverflow here: https://stackoverflow.com/questions/40428931/package-for-listing-version-of-packages-used-in-a-jupyter-notebook\n",
    "\n",
    "## Import packages \n",
    "import pkg_resources\n",
    "import types\n",
    "from datetime import date\n",
    "today = date.today()\n",
    "date = today.strftime(\"%d-%b-%Y\").upper()\n",
    "\n",
    "## Define function \n",
    "def get_imports():\n",
    "    for name, val in globals().items():\n",
    "        if isinstance(val, types.ModuleType):\n",
    "            # Split ensures you get root package, not just imported function\n",
    "            name = val.__name__.split(\".\")[0]\n",
    "\n",
    "        elif isinstance(val, type):\n",
    "            name = val.__module__.split(\".\")[0]\n",
    "\n",
    "        # Some packages are weird and have different imported names vs. system/pip names\n",
    "        # Unfortunately, there is no systematic way to get pip names from a package's imported name. You'll have to add exceptions to this list manually!\n",
    "        poorly_named_packages = {\n",
    "            \"PIL\": \"Pillow\",\n",
    "            \"sklearn\": \"scikit-learn\"\n",
    "        }\n",
    "        if name in poorly_named_packages.keys():\n",
    "            name = poorly_named_packages[name]\n",
    "\n",
    "        yield name\n",
    "\n",
    "## Get a list of packages imported \n",
    "imports = list(set(get_imports()))\n",
    "\n",
    "# The only way I found to get the version of the root package from only the name of the package is to cross-check the names of installed packages vs. imported packages\n",
    "requirements = []\n",
    "for m in pkg_resources.working_set:\n",
    "    if m.project_name in imports and m.project_name!=\"pip\":\n",
    "        requirements.append((m.project_name, m.version))\n",
    "\n",
    "## Print out packages and versions \n",
    "print(f\"PACKAGE VERSIONS ({date})\")\n",
    "for r in requirements:\n",
    "    print(\"\\t{}=={}\".format(*r))"
   ]
  },
  {
   "attachments": {},
   "cell_type": "markdown",
   "id": "65c6ea43-ca11-4eb2-b80c-7885d5783fa3",
   "metadata": {},
   "source": [
    "---\n",
    "# Write out METAL command (here for documentation -- needs to be run interactively!)\n",
    "\n",
    "```bash\n",
    "metal << EOT \n",
    "\n",
    "# UNCOMMENT THE NEXT LINE TO ENABLE GenomicControl CORRECTION\n",
    "SCHEME STDERR\n",
    "GENOMICCONTROL ON\n",
    "\n",
    "# === DESCRIBE AND PROCESS THE FIRST INPUT FILE ===\n",
    "MARKER markerID\n",
    "ALLELE effect_allele other_allele\n",
    "# FREQ   maf\n",
    "EFFECT beta\n",
    "STDERR LOG(OR)_SE\n",
    "PVALUE P\n",
    "# WEIGHT OBS_CT \n",
    "PROCESS ${WORK_DIR}/data/AAC/GP2-v4-AAC/GP2-v4-AAC-GWAS-MAF005-FEB2023.UpdatedforMETAL.tab\n",
    "\n",
    "# === DESCRIBE AND PROCESS THE SECOND INPUT FILE ===\n",
    "MARKER markerID\n",
    "ALLELE effect_allele alt_allele\n",
    "# FREQ   maf\n",
    "EFFECT effect\n",
    "STDERR stderr\n",
    "PVALUE pvalue\n",
    "# WEIGHT N\n",
    "PROCESS ${WORK_DIR}/data/23andMe/AAC_23andMe_MAF0.05.hg38.noindels.newMarkerIDs.tab\n",
    "\n",
    "OUTFILE ${WORK_DIR}/data/AAC-META/AAC-ONLY-META-UpdatedforMETAL .tbl\n",
    "ANALYZE HETEROGENEITY\n",
    "QUIT\n",
    "\n",
    "```\n",
    "\n",
    "**Control + D to submit!**"
   ]
  },
  {
   "cell_type": "markdown",
   "id": "14838493-2fdc-441e-bdf9-c37558378fe2",
   "metadata": {},
   "source": [
    "# Investigate Top Hits"
   ]
  },
  {
   "cell_type": "code",
   "execution_count": 4,
   "id": "95adf7fc-d03c-4d76-8485-c4a1fcdc7926",
   "metadata": {},
   "outputs": [
    {
     "name": "stdout",
     "output_type": "stream",
     "text": [
      "MarkerName\tAllele1\tAllele2\tEffect\tStdErr\tP-value\tDirection\tHetISq\tHetChiSq\tHetDf\tHetPVal\n"
     ]
    }
   ],
   "source": [
    "%%bash\n",
    "\n",
    "head -1 ${WORK_DIR}/data/AAC-META/AAC-ONLY-META-UpdatedforMETAL1.tbl \n",
    "cat ${WORK_DIR}/data/AAC-META/AAC-ONLY-META-UpdatedforMETAL1.tbl | awk '$6 <= 0.00000005' "
   ]
  },
  {
   "cell_type": "markdown",
   "id": "d3ddcd5b-cdd5-42a6-89e3-25bcbfaa5ef5",
   "metadata": {},
   "source": [
    "No hits"
   ]
  }
 ],
 "metadata": {
  "kernelspec": {
   "display_name": "python/3.9",
   "language": "python",
   "name": "py3.9"
  },
  "language_info": {
   "codemirror_mode": {
    "name": "ipython",
    "version": 3
   },
   "file_extension": ".py",
   "mimetype": "text/x-python",
   "name": "python",
   "nbconvert_exporter": "python",
   "pygments_lexer": "ipython3",
   "version": "3.9.13"
  }
 },
 "nbformat": 4,
 "nbformat_minor": 5
}
